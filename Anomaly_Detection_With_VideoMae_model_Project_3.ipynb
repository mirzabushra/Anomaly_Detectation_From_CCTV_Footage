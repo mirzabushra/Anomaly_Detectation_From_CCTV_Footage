{
  "cells": [
    {
      "cell_type": "code",
      "execution_count": null,
      "id": "38049fb7-17d0-4f04-9fdd-9e99c9d4c2cc",
      "metadata": {
        "id": "38049fb7-17d0-4f04-9fdd-9e99c9d4c2cc",
        "outputId": "b0d1f77e-84d4-4733-e256-52d443f2d986"
      },
      "outputs": [
        {
          "name": "stdout",
          "output_type": "stream",
          "text": [
            "Requirement already satisfied: jupyter in c:\\users\\t2420318\\.conda\\envs\\vqa\\lib\\site-packages (1.1.1)\n",
            "Requirement already satisfied: ipywidgets in c:\\users\\t2420318\\.conda\\envs\\vqa\\lib\\site-packages (8.1.5)\n",
            "Requirement already satisfied: notebook in c:\\users\\t2420318\\.conda\\envs\\vqa\\lib\\site-packages (from jupyter) (7.2.2)\n",
            "Requirement already satisfied: jupyter-console in c:\\users\\t2420318\\.conda\\envs\\vqa\\lib\\site-packages (from jupyter) (6.6.3)\n",
            "Requirement already satisfied: nbconvert in c:\\users\\t2420318\\.conda\\envs\\vqa\\lib\\site-packages (from jupyter) (7.16.4)\n",
            "Requirement already satisfied: ipykernel in c:\\users\\t2420318\\.conda\\envs\\vqa\\lib\\site-packages (from jupyter) (6.29.5)\n",
            "Requirement already satisfied: jupyterlab in c:\\users\\t2420318\\.conda\\envs\\vqa\\lib\\site-packages (from jupyter) (4.2.5)\n",
            "Requirement already satisfied: comm>=0.1.3 in c:\\users\\t2420318\\.conda\\envs\\vqa\\lib\\site-packages (from ipywidgets) (0.2.1)\n",
            "Requirement already satisfied: ipython>=6.1.0 in c:\\users\\t2420318\\.conda\\envs\\vqa\\lib\\site-packages (from ipywidgets) (8.30.0)\n",
            "Requirement already satisfied: traitlets>=4.3.1 in c:\\users\\t2420318\\.conda\\envs\\vqa\\lib\\site-packages (from ipywidgets) (5.14.3)\n",
            "Requirement already satisfied: widgetsnbextension~=4.0.12 in c:\\users\\t2420318\\.conda\\envs\\vqa\\lib\\site-packages (from ipywidgets) (4.0.13)\n",
            "Requirement already satisfied: jupyterlab-widgets~=3.0.12 in c:\\users\\t2420318\\.conda\\envs\\vqa\\lib\\site-packages (from ipywidgets) (3.0.13)\n",
            "Requirement already satisfied: decorator in c:\\users\\t2420318\\.conda\\envs\\vqa\\lib\\site-packages (from ipython>=6.1.0->ipywidgets) (5.1.1)\n",
            "Requirement already satisfied: jedi>=0.16 in c:\\users\\t2420318\\.conda\\envs\\vqa\\lib\\site-packages (from ipython>=6.1.0->ipywidgets) (0.19.2)\n",
            "Requirement already satisfied: matplotlib-inline in c:\\users\\t2420318\\.conda\\envs\\vqa\\lib\\site-packages (from ipython>=6.1.0->ipywidgets) (0.1.6)\n",
            "Requirement already satisfied: prompt-toolkit<3.1.0,>=3.0.41 in c:\\users\\t2420318\\.conda\\envs\\vqa\\lib\\site-packages (from ipython>=6.1.0->ipywidgets) (3.0.43)\n",
            "Requirement already satisfied: pygments>=2.4.0 in c:\\users\\t2420318\\.conda\\envs\\vqa\\lib\\site-packages (from ipython>=6.1.0->ipywidgets) (2.15.1)\n",
            "Requirement already satisfied: stack-data in c:\\users\\t2420318\\.conda\\envs\\vqa\\lib\\site-packages (from ipython>=6.1.0->ipywidgets) (0.2.0)\n",
            "Requirement already satisfied: colorama in c:\\users\\t2420318\\.conda\\envs\\vqa\\lib\\site-packages (from ipython>=6.1.0->ipywidgets) (0.4.6)\n",
            "Requirement already satisfied: debugpy>=1.6.5 in c:\\users\\t2420318\\.conda\\envs\\vqa\\lib\\site-packages (from ipykernel->jupyter) (1.6.7)\n",
            "Requirement already satisfied: jupyter-client>=6.1.12 in c:\\users\\t2420318\\.conda\\envs\\vqa\\lib\\site-packages (from ipykernel->jupyter) (8.6.0)\n",
            "Requirement already satisfied: jupyter-core!=5.0.*,>=4.12 in c:\\users\\t2420318\\.conda\\envs\\vqa\\lib\\site-packages (from ipykernel->jupyter) (5.7.2)\n",
            "Requirement already satisfied: nest-asyncio in c:\\users\\t2420318\\.conda\\envs\\vqa\\lib\\site-packages (from ipykernel->jupyter) (1.6.0)\n",
            "Requirement already satisfied: packaging in c:\\users\\t2420318\\.conda\\envs\\vqa\\lib\\site-packages (from ipykernel->jupyter) (24.2)\n",
            "Requirement already satisfied: psutil in c:\\users\\t2420318\\.conda\\envs\\vqa\\lib\\site-packages (from ipykernel->jupyter) (5.9.0)\n",
            "Requirement already satisfied: pyzmq>=24 in c:\\users\\t2420318\\.conda\\envs\\vqa\\lib\\site-packages (from ipykernel->jupyter) (26.2.0)\n",
            "Requirement already satisfied: tornado>=6.1 in c:\\users\\t2420318\\.conda\\envs\\vqa\\lib\\site-packages (from ipykernel->jupyter) (6.4.2)\n",
            "Requirement already satisfied: async-lru>=1.0.0 in c:\\users\\t2420318\\.conda\\envs\\vqa\\lib\\site-packages (from jupyterlab->jupyter) (2.0.4)\n",
            "Requirement already satisfied: httpx>=0.25.0 in c:\\users\\t2420318\\.conda\\envs\\vqa\\lib\\site-packages (from jupyterlab->jupyter) (0.27.0)\n",
            "Requirement already satisfied: jinja2>=3.0.3 in c:\\users\\t2420318\\.conda\\envs\\vqa\\lib\\site-packages (from jupyterlab->jupyter) (3.1.4)\n",
            "Requirement already satisfied: jupyter-lsp>=2.0.0 in c:\\users\\t2420318\\.conda\\envs\\vqa\\lib\\site-packages (from jupyterlab->jupyter) (2.2.0)\n",
            "Requirement already satisfied: jupyter-server<3,>=2.4.0 in c:\\users\\t2420318\\.conda\\envs\\vqa\\lib\\site-packages (from jupyterlab->jupyter) (2.14.1)\n",
            "Requirement already satisfied: jupyterlab-server<3,>=2.27.1 in c:\\users\\t2420318\\.conda\\envs\\vqa\\lib\\site-packages (from jupyterlab->jupyter) (2.27.3)\n",
            "Requirement already satisfied: notebook-shim>=0.2 in c:\\users\\t2420318\\.conda\\envs\\vqa\\lib\\site-packages (from jupyterlab->jupyter) (0.2.3)\n",
            "Requirement already satisfied: setuptools>=40.1.0 in c:\\users\\t2420318\\.conda\\envs\\vqa\\lib\\site-packages (from jupyterlab->jupyter) (75.1.0)\n",
            "Requirement already satisfied: beautifulsoup4 in c:\\users\\t2420318\\.conda\\envs\\vqa\\lib\\site-packages (from nbconvert->jupyter) (4.12.3)\n",
            "Requirement already satisfied: bleach!=5.0.0 in c:\\users\\t2420318\\.conda\\envs\\vqa\\lib\\site-packages (from nbconvert->jupyter) (6.2.0)\n",
            "Requirement already satisfied: defusedxml in c:\\users\\t2420318\\.conda\\envs\\vqa\\lib\\site-packages (from nbconvert->jupyter) (0.7.1)\n",
            "Requirement already satisfied: jupyterlab-pygments in c:\\users\\t2420318\\.conda\\envs\\vqa\\lib\\site-packages (from nbconvert->jupyter) (0.1.2)\n",
            "Requirement already satisfied: markupsafe>=2.0 in c:\\users\\t2420318\\.conda\\envs\\vqa\\lib\\site-packages (from nbconvert->jupyter) (2.1.3)\n",
            "Requirement already satisfied: mistune<4,>=2.0.3 in c:\\users\\t2420318\\.conda\\envs\\vqa\\lib\\site-packages (from nbconvert->jupyter) (2.0.4)\n",
            "Requirement already satisfied: nbclient>=0.5.0 in c:\\users\\t2420318\\.conda\\envs\\vqa\\lib\\site-packages (from nbconvert->jupyter) (0.8.0)\n",
            "Requirement already satisfied: nbformat>=5.7 in c:\\users\\t2420318\\.conda\\envs\\vqa\\lib\\site-packages (from nbconvert->jupyter) (5.10.4)\n",
            "Requirement already satisfied: pandocfilters>=1.4.1 in c:\\users\\t2420318\\.conda\\envs\\vqa\\lib\\site-packages (from nbconvert->jupyter) (1.5.0)\n",
            "Requirement already satisfied: tinycss2 in c:\\users\\t2420318\\.conda\\envs\\vqa\\lib\\site-packages (from nbconvert->jupyter) (1.2.1)\n",
            "Requirement already satisfied: webencodings in c:\\users\\t2420318\\.conda\\envs\\vqa\\lib\\site-packages (from bleach!=5.0.0->nbconvert->jupyter) (0.5.1)\n",
            "Requirement already satisfied: anyio in c:\\users\\t2420318\\.conda\\envs\\vqa\\lib\\site-packages (from httpx>=0.25.0->jupyterlab->jupyter) (4.6.2)\n",
            "Requirement already satisfied: certifi in c:\\users\\t2420318\\.conda\\envs\\vqa\\lib\\site-packages (from httpx>=0.25.0->jupyterlab->jupyter) (2024.12.14)\n",
            "Requirement already satisfied: httpcore==1.* in c:\\users\\t2420318\\.conda\\envs\\vqa\\lib\\site-packages (from httpx>=0.25.0->jupyterlab->jupyter) (1.0.2)\n",
            "Requirement already satisfied: idna in c:\\users\\t2420318\\.conda\\envs\\vqa\\lib\\site-packages (from httpx>=0.25.0->jupyterlab->jupyter) (3.7)\n",
            "Requirement already satisfied: sniffio in c:\\users\\t2420318\\.conda\\envs\\vqa\\lib\\site-packages (from httpx>=0.25.0->jupyterlab->jupyter) (1.3.0)\n",
            "Requirement already satisfied: h11<0.15,>=0.13 in c:\\users\\t2420318\\.conda\\envs\\vqa\\lib\\site-packages (from httpcore==1.*->httpx>=0.25.0->jupyterlab->jupyter) (0.14.0)\n",
            "Requirement already satisfied: parso<0.9.0,>=0.8.4 in c:\\users\\t2420318\\.conda\\envs\\vqa\\lib\\site-packages (from jedi>=0.16->ipython>=6.1.0->ipywidgets) (0.8.4)\n",
            "Requirement already satisfied: python-dateutil>=2.8.2 in c:\\users\\t2420318\\.conda\\envs\\vqa\\lib\\site-packages (from jupyter-client>=6.1.12->ipykernel->jupyter) (2.9.0.post0)\n",
            "Requirement already satisfied: platformdirs>=2.5 in c:\\users\\t2420318\\.conda\\envs\\vqa\\lib\\site-packages (from jupyter-core!=5.0.*,>=4.12->ipykernel->jupyter) (3.10.0)\n",
            "Requirement already satisfied: pywin32>=300 in c:\\users\\t2420318\\.conda\\envs\\vqa\\lib\\site-packages (from jupyter-core!=5.0.*,>=4.12->ipykernel->jupyter) (305.1)\n",
            "Requirement already satisfied: argon2-cffi>=21.1 in c:\\users\\t2420318\\.conda\\envs\\vqa\\lib\\site-packages (from jupyter-server<3,>=2.4.0->jupyterlab->jupyter) (21.3.0)\n",
            "Requirement already satisfied: jupyter-events>=0.9.0 in c:\\users\\t2420318\\.conda\\envs\\vqa\\lib\\site-packages (from jupyter-server<3,>=2.4.0->jupyterlab->jupyter) (0.10.0)\n",
            "Requirement already satisfied: jupyter-server-terminals>=0.4.4 in c:\\users\\t2420318\\.conda\\envs\\vqa\\lib\\site-packages (from jupyter-server<3,>=2.4.0->jupyterlab->jupyter) (0.4.4)\n",
            "Requirement already satisfied: overrides>=5.0 in c:\\users\\t2420318\\.conda\\envs\\vqa\\lib\\site-packages (from jupyter-server<3,>=2.4.0->jupyterlab->jupyter) (7.4.0)\n",
            "Requirement already satisfied: prometheus-client>=0.9 in c:\\users\\t2420318\\.conda\\envs\\vqa\\lib\\site-packages (from jupyter-server<3,>=2.4.0->jupyterlab->jupyter) (0.21.0)\n",
            "Requirement already satisfied: pywinpty>=2.0.1 in c:\\users\\t2420318\\.conda\\envs\\vqa\\lib\\site-packages (from jupyter-server<3,>=2.4.0->jupyterlab->jupyter) (2.0.14)\n",
            "Requirement already satisfied: send2trash>=1.8.2 in c:\\users\\t2420318\\.conda\\envs\\vqa\\lib\\site-packages (from jupyter-server<3,>=2.4.0->jupyterlab->jupyter) (1.8.2)\n",
            "Requirement already satisfied: terminado>=0.8.3 in c:\\users\\t2420318\\.conda\\envs\\vqa\\lib\\site-packages (from jupyter-server<3,>=2.4.0->jupyterlab->jupyter) (0.17.1)\n",
            "Requirement already satisfied: websocket-client>=1.7 in c:\\users\\t2420318\\.conda\\envs\\vqa\\lib\\site-packages (from jupyter-server<3,>=2.4.0->jupyterlab->jupyter) (1.8.0)\n",
            "Requirement already satisfied: babel>=2.10 in c:\\users\\t2420318\\.conda\\envs\\vqa\\lib\\site-packages (from jupyterlab-server<3,>=2.27.1->jupyterlab->jupyter) (2.11.0)\n",
            "Requirement already satisfied: json5>=0.9.0 in c:\\users\\t2420318\\.conda\\envs\\vqa\\lib\\site-packages (from jupyterlab-server<3,>=2.27.1->jupyterlab->jupyter) (0.9.25)\n",
            "Requirement already satisfied: jsonschema>=4.18.0 in c:\\users\\t2420318\\.conda\\envs\\vqa\\lib\\site-packages (from jupyterlab-server<3,>=2.27.1->jupyterlab->jupyter) (4.23.0)\n",
            "Requirement already satisfied: requests>=2.31 in c:\\users\\t2420318\\.conda\\envs\\vqa\\lib\\site-packages (from jupyterlab-server<3,>=2.27.1->jupyterlab->jupyter) (2.32.3)\n",
            "Requirement already satisfied: fastjsonschema>=2.15 in c:\\users\\t2420318\\.conda\\envs\\vqa\\lib\\site-packages (from nbformat>=5.7->nbconvert->jupyter) (2.20.0)\n",
            "Requirement already satisfied: wcwidth in c:\\users\\t2420318\\.conda\\envs\\vqa\\lib\\site-packages (from prompt-toolkit<3.1.0,>=3.0.41->ipython>=6.1.0->ipywidgets) (0.2.5)\n",
            "Requirement already satisfied: soupsieve>1.2 in c:\\users\\t2420318\\.conda\\envs\\vqa\\lib\\site-packages (from beautifulsoup4->nbconvert->jupyter) (2.5)\n",
            "Requirement already satisfied: executing in c:\\users\\t2420318\\.conda\\envs\\vqa\\lib\\site-packages (from stack-data->ipython>=6.1.0->ipywidgets) (0.8.3)\n",
            "Requirement already satisfied: asttokens in c:\\users\\t2420318\\.conda\\envs\\vqa\\lib\\site-packages (from stack-data->ipython>=6.1.0->ipywidgets) (2.0.5)\n",
            "Requirement already satisfied: pure-eval in c:\\users\\t2420318\\.conda\\envs\\vqa\\lib\\site-packages (from stack-data->ipython>=6.1.0->ipywidgets) (0.2.2)\n",
            "Requirement already satisfied: argon2-cffi-bindings in c:\\users\\t2420318\\.conda\\envs\\vqa\\lib\\site-packages (from argon2-cffi>=21.1->jupyter-server<3,>=2.4.0->jupyterlab->jupyter) (21.2.0)\n",
            "Requirement already satisfied: pytz>=2015.7 in c:\\users\\t2420318\\.conda\\envs\\vqa\\lib\\site-packages (from babel>=2.10->jupyterlab-server<3,>=2.27.1->jupyterlab->jupyter) (2024.1)\n",
            "Requirement already satisfied: attrs>=22.2.0 in c:\\users\\t2420318\\.conda\\envs\\vqa\\lib\\site-packages (from jsonschema>=4.18.0->jupyterlab-server<3,>=2.27.1->jupyterlab->jupyter) (24.3.0)\n",
            "Requirement already satisfied: jsonschema-specifications>=2023.03.6 in c:\\users\\t2420318\\.conda\\envs\\vqa\\lib\\site-packages (from jsonschema>=4.18.0->jupyterlab-server<3,>=2.27.1->jupyterlab->jupyter) (2023.7.1)\n",
            "Requirement already satisfied: referencing>=0.28.4 in c:\\users\\t2420318\\.conda\\envs\\vqa\\lib\\site-packages (from jsonschema>=4.18.0->jupyterlab-server<3,>=2.27.1->jupyterlab->jupyter) (0.30.2)\n",
            "Requirement already satisfied: rpds-py>=0.7.1 in c:\\users\\t2420318\\.conda\\envs\\vqa\\lib\\site-packages (from jsonschema>=4.18.0->jupyterlab-server<3,>=2.27.1->jupyterlab->jupyter) (0.10.6)\n",
            "Requirement already satisfied: python-json-logger>=2.0.4 in c:\\users\\t2420318\\.conda\\envs\\vqa\\lib\\site-packages (from jupyter-events>=0.9.0->jupyter-server<3,>=2.4.0->jupyterlab->jupyter) (3.2.1)\n",
            "Requirement already satisfied: pyyaml>=5.3 in c:\\users\\t2420318\\.conda\\envs\\vqa\\lib\\site-packages (from jupyter-events>=0.9.0->jupyter-server<3,>=2.4.0->jupyterlab->jupyter) (6.0.2)\n",
            "Requirement already satisfied: rfc3339-validator in c:\\users\\t2420318\\.conda\\envs\\vqa\\lib\\site-packages (from jupyter-events>=0.9.0->jupyter-server<3,>=2.4.0->jupyterlab->jupyter) (0.1.4)\n",
            "Requirement already satisfied: rfc3986-validator>=0.1.1 in c:\\users\\t2420318\\.conda\\envs\\vqa\\lib\\site-packages (from jupyter-events>=0.9.0->jupyter-server<3,>=2.4.0->jupyterlab->jupyter) (0.1.1)\n",
            "Requirement already satisfied: six>=1.5 in c:\\users\\t2420318\\.conda\\envs\\vqa\\lib\\site-packages (from python-dateutil>=2.8.2->jupyter-client>=6.1.12->ipykernel->jupyter) (1.16.0)\n",
            "Requirement already satisfied: charset-normalizer<4,>=2 in c:\\users\\t2420318\\.conda\\envs\\vqa\\lib\\site-packages (from requests>=2.31->jupyterlab-server<3,>=2.27.1->jupyterlab->jupyter) (3.3.2)\n",
            "Requirement already satisfied: urllib3<3,>=1.21.1 in c:\\users\\t2420318\\.conda\\envs\\vqa\\lib\\site-packages (from requests>=2.31->jupyterlab-server<3,>=2.27.1->jupyterlab->jupyter) (2.2.3)\n",
            "Requirement already satisfied: fqdn in c:\\users\\t2420318\\.conda\\envs\\vqa\\lib\\site-packages (from jsonschema[format-nongpl]>=4.18.0->jupyter-events>=0.9.0->jupyter-server<3,>=2.4.0->jupyterlab->jupyter) (1.5.1)\n",
            "Requirement already satisfied: isoduration in c:\\users\\t2420318\\.conda\\envs\\vqa\\lib\\site-packages (from jsonschema[format-nongpl]>=4.18.0->jupyter-events>=0.9.0->jupyter-server<3,>=2.4.0->jupyterlab->jupyter) (20.11.0)\n",
            "Requirement already satisfied: jsonpointer>1.13 in c:\\users\\t2420318\\.conda\\envs\\vqa\\lib\\site-packages (from jsonschema[format-nongpl]>=4.18.0->jupyter-events>=0.9.0->jupyter-server<3,>=2.4.0->jupyterlab->jupyter) (3.0.0)\n",
            "Requirement already satisfied: uri-template in c:\\users\\t2420318\\.conda\\envs\\vqa\\lib\\site-packages (from jsonschema[format-nongpl]>=4.18.0->jupyter-events>=0.9.0->jupyter-server<3,>=2.4.0->jupyterlab->jupyter) (1.3.0)\n",
            "Requirement already satisfied: webcolors>=24.6.0 in c:\\users\\t2420318\\.conda\\envs\\vqa\\lib\\site-packages (from jsonschema[format-nongpl]>=4.18.0->jupyter-events>=0.9.0->jupyter-server<3,>=2.4.0->jupyterlab->jupyter) (24.11.1)\n",
            "Requirement already satisfied: cffi>=1.0.1 in c:\\users\\t2420318\\.conda\\envs\\vqa\\lib\\site-packages (from argon2-cffi-bindings->argon2-cffi>=21.1->jupyter-server<3,>=2.4.0->jupyterlab->jupyter) (1.17.1)\n",
            "Requirement already satisfied: pycparser in c:\\users\\t2420318\\.conda\\envs\\vqa\\lib\\site-packages (from cffi>=1.0.1->argon2-cffi-bindings->argon2-cffi>=21.1->jupyter-server<3,>=2.4.0->jupyterlab->jupyter) (2.21)\n",
            "Requirement already satisfied: arrow>=0.15.0 in c:\\users\\t2420318\\.conda\\envs\\vqa\\lib\\site-packages (from isoduration->jsonschema[format-nongpl]>=4.18.0->jupyter-events>=0.9.0->jupyter-server<3,>=2.4.0->jupyterlab->jupyter) (1.3.0)\n",
            "Requirement already satisfied: types-python-dateutil>=2.8.10 in c:\\users\\t2420318\\.conda\\envs\\vqa\\lib\\site-packages (from arrow>=0.15.0->isoduration->jsonschema[format-nongpl]>=4.18.0->jupyter-events>=0.9.0->jupyter-server<3,>=2.4.0->jupyterlab->jupyter) (2.9.0.20241206)\n"
          ]
        }
      ],
      "source": [
        "!pip install --upgrade jupyter ipywidgets\n",
        "import os\n",
        "os.environ[\"HF_HUB_DISABLE_SYMLINKS_WARNING\"] = \"1\"\n",
        "\n"
      ]
    },
    {
      "cell_type": "code",
      "execution_count": null,
      "id": "93998a20-ab2b-4993-8acf-0489999e20c1",
      "metadata": {
        "id": "93998a20-ab2b-4993-8acf-0489999e20c1",
        "outputId": "ec00d270-35c8-4c79-8810-bb075ef63302"
      },
      "outputs": [
        {
          "name": "stdout",
          "output_type": "stream",
          "text": [
            "TORCH_USE_CUDA_DSA: 1\n"
          ]
        }
      ],
      "source": [
        "import os\n",
        "os.environ['TORCH_USE_CUDA_DSA'] = '1'\n",
        "\n",
        "# Verify that the environment variable is set\n",
        "print(f\"TORCH_USE_CUDA_DSA: {os.getenv('TORCH_USE_CUDA_DSA')}\")\n"
      ]
    },
    {
      "cell_type": "code",
      "execution_count": null,
      "id": "ba19f848-d9b0-4688-bdfe-929f623956f6",
      "metadata": {
        "id": "ba19f848-d9b0-4688-bdfe-929f623956f6",
        "outputId": "c89ad392-b784-4172-a6a0-caed1d06bb31"
      },
      "outputs": [
        {
          "name": "stdout",
          "output_type": "stream",
          "text": [
            "Thu Jan 30 18:19:49 2025       \n",
            "+-----------------------------------------------------------------------------------------+\n",
            "| NVIDIA-SMI 561.17                 Driver Version: 561.17         CUDA Version: 12.6     |\n",
            "|-----------------------------------------+------------------------+----------------------+\n",
            "| GPU  Name                  Driver-Model | Bus-Id          Disp.A | Volatile Uncorr. ECC |\n",
            "| Fan  Temp   Perf          Pwr:Usage/Cap |           Memory-Usage | GPU-Util  Compute M. |\n",
            "|                                         |                        |               MIG M. |\n",
            "|=========================================+========================+======================|\n",
            "|   0  NVIDIA GeForce RTX 4090      WDDM  |   00000000:01:00.0  On |                  Off |\n",
            "| 34%   55C    P2            248W /  598W |   11626MiB /  24564MiB |     58%      Default |\n",
            "|                                         |                        |                  N/A |\n",
            "+-----------------------------------------+------------------------+----------------------+\n",
            "                                                                                         \n",
            "+-----------------------------------------------------------------------------------------+\n",
            "| Processes:                                                                              |\n",
            "|  GPU   GI   CI        PID   Type   Process name                              GPU Memory |\n",
            "|        ID   ID                                                               Usage      |\n",
            "|=========================================================================================|\n",
            "|    0   N/A  N/A      2500    C+G   ...crosoft\\Edge\\Application\\msedge.exe      N/A      |\n",
            "|    0   N/A  N/A      3624    C+G   ...siveControlPanel\\SystemSettings.exe      N/A      |\n",
            "|    0   N/A  N/A      6740    C+G   ...CBS_cw5n1h2txyewy\\TextInputHost.exe      N/A      |\n",
            "|    0   N/A  N/A      7296    C+G   ...ekyb3d8bbwe\\PhoneExperienceHost.exe      N/A      |\n",
            "|    0   N/A  N/A      8496    C+G   ...2txyewy\\StartMenuExperienceHost.exe      N/A      |\n",
            "|    0   N/A  N/A      8540    C+G   ...s\\System32\\ApplicationFrameHost.exe      N/A      |\n",
            "|    0   N/A  N/A      8604    C+G   ...5n1h2txyewy\\ShellExperienceHost.exe      N/A      |\n",
            "|    0   N/A  N/A      8992    C+G   C:\\Windows\\explorer.exe                     N/A      |\n",
            "|    0   N/A  N/A      9000    C+G   C:\\Windows\\System32\\ShellHost.exe           N/A      |\n",
            "|    0   N/A  N/A      9812    C+G   ...nt.CBS_cw5n1h2txyewy\\SearchHost.exe      N/A      |\n",
            "|    0   N/A  N/A     11804    C+G   ...t.LockApp_cw5n1h2txyewy\\LockApp.exe      N/A      |\n",
            "|    0   N/A  N/A     13916    C+G   C:\\Windows\\System32\\Taskmgr.exe             N/A      |\n",
            "|    0   N/A  N/A     14548      C   ...T2420318\\.conda\\envs\\vqa\\python.exe      N/A      |\n",
            "|    0   N/A  N/A     14632    C+G   ...cal\\Microsoft\\OneDrive\\OneDrive.exe      N/A      |\n",
            "|    0   N/A  N/A     17564    C+G   ...n\\132.0.2957.127\\msedgewebview2.exe      N/A      |\n",
            "+-----------------------------------------------------------------------------------------+\n"
          ]
        }
      ],
      "source": [
        "!nvidia-smi\n"
      ]
    },
    {
      "cell_type": "code",
      "execution_count": null,
      "id": "582def0d-ca5a-43ca-baca-47f24f2a221d",
      "metadata": {
        "scrolled": true,
        "id": "582def0d-ca5a-43ca-baca-47f24f2a221d",
        "outputId": "1947a671-98bd-42fe-c7ac-81f6f1fc65bc"
      },
      "outputs": [
        {
          "name": "stderr",
          "output_type": "stream",
          "text": [
            "Some weights of VideoMAEForVideoClassification were not initialized from the model checkpoint at MCG-NJU/videomae-base and are newly initialized: ['classifier.bias', 'classifier.weight']\n",
            "You should probably TRAIN this model on a down-stream task to be able to use it for predictions and inference.\n"
          ]
        },
        {
          "name": "stdout",
          "output_type": "stream",
          "text": [
            "Model successfully moved to GPU!\n",
            "Input Data Shape: torch.Size([16, 16, 3, 224, 224])\n",
            "Target Shape: torch.Size([16]), Target Min: 0, Target Max: 7\n"
          ]
        }
      ],
      "source": [
        "from transformers import AutoModelForVideoClassification\n",
        "import torch.nn as nn\n",
        "import torch\n",
        "\n",
        "# Define number of classes\n",
        "num_classes = 8  # Ensure this matches your dataset\n",
        "device = torch.device(\"cuda\" if torch.cuda.is_available() else \"cpu\")\n",
        "\n",
        "# Initialize VideoMAE model\n",
        "model = AutoModelForVideoClassification.from_pretrained(\"MCG-NJU/videomae-base\")\n",
        "model.classifier = nn.Linear(model.config.hidden_size, num_classes)  # Update classifier for downstream task\n",
        "\n",
        "# Move model to GPU\n",
        "try:\n",
        "    model = model.to(device)\n",
        "    print(\"Model successfully moved to GPU!\")\n",
        "except Exception as e:\n",
        "    print(f\"Error moving model to GPU: {e}\")\n",
        "\n",
        "# Debugging function for input data and target\n",
        "def debug_data(data, target):\n",
        "    print(f\"Input Data Shape: {data.shape}\")\n",
        "    print(f\"Target Shape: {target.shape}, Target Min: {target.min()}, Target Max: {target.max()}\")\n",
        "\n",
        "    # Ensure labels are valid\n",
        "    if target.dtype != torch.long:\n",
        "        print(f\"Converting target dtype from {target.dtype} to torch.long\")\n",
        "        target = target.long()\n",
        "\n",
        "    assert target.min() >= 0 and target.max() < num_classes, (\n",
        "        f\"Invalid labels! Expected range [0, {num_classes - 1}], \"\n",
        "        f\"but got min={target.min()}, max={target.max()}\"\n",
        "    )\n",
        "    return data, target\n",
        "\n",
        "# Debug first batch\n",
        "for data, target in train_loader:\n",
        "    data, target = debug_data(data, target)\n",
        "    break\n"
      ]
    },
    {
      "cell_type": "code",
      "execution_count": null,
      "id": "57e521d6-8fbe-43ca-88ba-f9a09675f44d",
      "metadata": {
        "id": "57e521d6-8fbe-43ca-88ba-f9a09675f44d"
      },
      "outputs": [],
      "source": [
        "import torch\n",
        "torch.cuda.memory_stats()  # Debug memory status\n",
        "torch.cuda.ipc_collect()   # Release cached memory\n",
        "torch.cuda.empty_cache()   # Clear unused memory\n"
      ]
    },
    {
      "cell_type": "code",
      "execution_count": null,
      "id": "b9fd8ca3-6370-432b-a0ba-d9e9f064f485",
      "metadata": {
        "id": "b9fd8ca3-6370-432b-a0ba-d9e9f064f485",
        "outputId": "27a468ef-94b7-4d00-e08e-4e075d1d470b"
      },
      "outputs": [
        {
          "name": "stdout",
          "output_type": "stream",
          "text": [
            "Added (C:/Users/T2420318/Dataset/output_dataset (1)/train\\Abuse\\Abuse001_x264, Abuse)\n",
            "Added (C:/Users/T2420318/Dataset/output_dataset (1)/train\\Abuse\\Abuse003_x264, Abuse)\n",
            "Added (C:/Users/T2420318/Dataset/output_dataset (1)/train\\Abuse\\Abuse004_x264, Abuse)\n",
            "Added (C:/Users/T2420318/Dataset/output_dataset (1)/train\\Abuse\\Abuse005_x264, Abuse)\n",
            "Added (C:/Users/T2420318/Dataset/output_dataset (1)/train\\Abuse\\Abuse006_x264, Abuse)\n",
            "Added (C:/Users/T2420318/Dataset/output_dataset (1)/train\\Abuse\\Abuse007_x264, Abuse)\n",
            "Added (C:/Users/T2420318/Dataset/output_dataset (1)/train\\Abuse\\Abuse008_x264, Abuse)\n",
            "Added (C:/Users/T2420318/Dataset/output_dataset (1)/train\\Abuse\\Abuse010_x264, Abuse)\n",
            "Added (C:/Users/T2420318/Dataset/output_dataset (1)/train\\Abuse\\Abuse011_x264, Abuse)\n",
            "Added (C:/Users/T2420318/Dataset/output_dataset (1)/train\\Abuse\\Abuse013_x264, Abuse)\n",
            "Added (C:/Users/T2420318/Dataset/output_dataset (1)/train\\Abuse\\Abuse015_x264, Abuse)\n",
            "Added (C:/Users/T2420318/Dataset/output_dataset (1)/train\\Abuse\\Abuse016_x264, Abuse)\n",
            "Added (C:/Users/T2420318/Dataset/output_dataset (1)/train\\Abuse\\Abuse018_x264, Abuse)\n",
            "Added (C:/Users/T2420318/Dataset/output_dataset (1)/train\\Abuse\\Abuse019_x264, Abuse)\n",
            "Added (C:/Users/T2420318/Dataset/output_dataset (1)/train\\Abuse\\Abuse020_x264, Abuse)\n",
            "Added (C:/Users/T2420318/Dataset/output_dataset (1)/train\\Abuse\\Abuse021_x264, Abuse)\n",
            "Added (C:/Users/T2420318/Dataset/output_dataset (1)/train\\Abuse\\Abuse022_x264, Abuse)\n",
            "Added (C:/Users/T2420318/Dataset/output_dataset (1)/train\\Abuse\\Abuse023_x264, Abuse)\n",
            "Added (C:/Users/T2420318/Dataset/output_dataset (1)/train\\Abuse\\Abuse025_x264, Abuse)\n",
            "Added (C:/Users/T2420318/Dataset/output_dataset (1)/train\\Abuse\\Abuse026_x264, Abuse)\n",
            "Added (C:/Users/T2420318/Dataset/output_dataset (1)/train\\Abuse\\Abuse027_x264, Abuse)\n",
            "Added (C:/Users/T2420318/Dataset/output_dataset (1)/train\\Abuse\\Abuse028_x264, Abuse)\n",
            "Added (C:/Users/T2420318/Dataset/output_dataset (1)/train\\Abuse\\Abuse029_x264, Abuse)\n",
            "Added (C:/Users/T2420318/Dataset/output_dataset (1)/train\\Arrest\\Arrest001_x264, Arrest)\n",
            "Added (C:/Users/T2420318/Dataset/output_dataset (1)/train\\Arrest\\Arrest003_x264, Arrest)\n",
            "Added (C:/Users/T2420318/Dataset/output_dataset (1)/train\\Arrest\\Arrest004_x264, Arrest)\n",
            "Added (C:/Users/T2420318/Dataset/output_dataset (1)/train\\Arrest\\Arrest005_x264, Arrest)\n",
            "Added (C:/Users/T2420318/Dataset/output_dataset (1)/train\\Arrest\\Arrest006_x264, Arrest)\n",
            "Added (C:/Users/T2420318/Dataset/output_dataset (1)/train\\Arrest\\Arrest008_x264, Arrest)\n",
            "Added (C:/Users/T2420318/Dataset/output_dataset (1)/train\\Arrest\\Arrest010_x264, Arrest)\n",
            "Added (C:/Users/T2420318/Dataset/output_dataset (1)/train\\Arrest\\Arrest014_x264, Arrest)\n",
            "Added (C:/Users/T2420318/Dataset/output_dataset (1)/train\\Arrest\\Arrest015_x264, Arrest)\n",
            "Added (C:/Users/T2420318/Dataset/output_dataset (1)/train\\Arrest\\Arrest017_x264, Arrest)\n",
            "Added (C:/Users/T2420318/Dataset/output_dataset (1)/train\\Arrest\\Arrest018_x264, Arrest)\n",
            "Added (C:/Users/T2420318/Dataset/output_dataset (1)/train\\Arrest\\Arrest020_x264, Arrest)\n",
            "Added (C:/Users/T2420318/Dataset/output_dataset (1)/train\\Arrest\\Arrest022_x264, Arrest)\n",
            "Added (C:/Users/T2420318/Dataset/output_dataset (1)/train\\Arrest\\Arrest023_x264, Arrest)\n",
            "Added (C:/Users/T2420318/Dataset/output_dataset (1)/train\\Arrest\\Arrest024_x264, Arrest)\n",
            "Added (C:/Users/T2420318/Dataset/output_dataset (1)/train\\Arrest\\Arrest025_x264, Arrest)\n",
            "Added (C:/Users/T2420318/Dataset/output_dataset (1)/train\\Arrest\\Arrest026_x264, Arrest)\n",
            "Added (C:/Users/T2420318/Dataset/output_dataset (1)/train\\Arson\\Arson001_x264, Arson)\n",
            "Added (C:/Users/T2420318/Dataset/output_dataset (1)/train\\Arson\\Arson003_x264, Arson)\n",
            "Added (C:/Users/T2420318/Dataset/output_dataset (1)/train\\Arson\\Arson005_x264, Arson)\n",
            "Added (C:/Users/T2420318/Dataset/output_dataset (1)/train\\Arson\\Arson006_x264, Arson)\n",
            "Added (C:/Users/T2420318/Dataset/output_dataset (1)/train\\Arson\\Arson009_x264, Arson)\n",
            "Added (C:/Users/T2420318/Dataset/output_dataset (1)/train\\Arson\\Arson010_x264, Arson)\n",
            "Added (C:/Users/T2420318/Dataset/output_dataset (1)/train\\Assault\\Assault001_x264, Assault)\n",
            "Added (C:/Users/T2420318/Dataset/output_dataset (1)/train\\Assault\\Assault003_x264, Assault)\n",
            "Added (C:/Users/T2420318/Dataset/output_dataset (1)/train\\Assault\\Assault004_x264, Assault)\n",
            "Added (C:/Users/T2420318/Dataset/output_dataset (1)/train\\Assault\\Assault005_x264, Assault)\n",
            "Added (C:/Users/T2420318/Dataset/output_dataset (1)/train\\Assault\\Assault006_x264, Assault)\n",
            "Added (C:/Users/T2420318/Dataset/output_dataset (1)/train\\Assault\\Assault007_x264, Assault)\n",
            "Added (C:/Users/T2420318/Dataset/output_dataset (1)/train\\Assault\\Assault008_x264, Assault)\n",
            "Added (C:/Users/T2420318/Dataset/output_dataset (1)/train\\Assault\\Assault010_x264, Assault)\n",
            "Added (C:/Users/T2420318/Dataset/output_dataset (1)/train\\Assault\\Assault011_x264, Assault)\n",
            "Added (C:/Users/T2420318/Dataset/output_dataset (1)/train\\Assault\\Assault013_x264, Assault)\n",
            "Added (C:/Users/T2420318/Dataset/output_dataset (1)/train\\Assault\\Assault015_x264, Assault)\n",
            "Added (C:/Users/T2420318/Dataset/output_dataset (1)/train\\Assault\\Assault016_x264, Assault)\n",
            "Added (C:/Users/T2420318/Dataset/output_dataset (1)/train\\Assault\\Assault018_x264, Assault)\n",
            "Added (C:/Users/T2420318/Dataset/output_dataset (1)/train\\Assault\\Assault020_x264, Assault)\n",
            "Added (C:/Users/T2420318/Dataset/output_dataset (1)/train\\Assault\\Assault022_x264, Assault)\n",
            "Added (C:/Users/T2420318/Dataset/output_dataset (1)/train\\Assault\\Assault023_x264, Assault)\n",
            "Added (C:/Users/T2420318/Dataset/output_dataset (1)/train\\Assault\\Assault024_x264, Assault)\n",
            "Added (C:/Users/T2420318/Dataset/output_dataset (1)/train\\Assault\\Assault025_x264, Assault)\n",
            "Added (C:/Users/T2420318/Dataset/output_dataset (1)/train\\Assault\\Assault031_x264, Assault)\n",
            "Added (C:/Users/T2420318/Dataset/output_dataset (1)/train\\Burglary\\Burglary001_x264, Burglary)\n",
            "Added (C:/Users/T2420318/Dataset/output_dataset (1)/train\\Burglary\\Burglary003_x264, Burglary)\n",
            "Added (C:/Users/T2420318/Dataset/output_dataset (1)/train\\Burglary\\Burglary004_x264, Burglary)\n",
            "Added (C:/Users/T2420318/Dataset/output_dataset (1)/train\\Burglary\\Burglary005_x264, Burglary)\n",
            "Added (C:/Users/T2420318/Dataset/output_dataset (1)/train\\Burglary\\Burglary006_x264, Burglary)\n",
            "Added (C:/Users/T2420318/Dataset/output_dataset (1)/train\\Burglary\\Burglary007_x264, Burglary)\n",
            "Added (C:/Users/T2420318/Dataset/output_dataset (1)/train\\Burglary\\Burglary008_x264, Burglary)\n",
            "Added (C:/Users/T2420318/Dataset/output_dataset (1)/train\\Burglary\\Burglary010_x264, Burglary)\n",
            "Added (C:/Users/T2420318/Dataset/output_dataset (1)/train\\Explosion\\Explosion001_x264, Explosion)\n",
            "Added (C:/Users/T2420318/Dataset/output_dataset (1)/train\\Explosion\\Explosion003_x264, Explosion)\n",
            "Added (C:/Users/T2420318/Dataset/output_dataset (1)/train\\Explosion\\Explosion004_x264, Explosion)\n",
            "Added (C:/Users/T2420318/Dataset/output_dataset (1)/train\\Explosion\\Explosion005_x264, Explosion)\n",
            "Added (C:/Users/T2420318/Dataset/output_dataset (1)/train\\Explosion\\Explosion006_x264, Explosion)\n",
            "Added (C:/Users/T2420318/Dataset/output_dataset (1)/train\\Explosion\\Explosion007_x264, Explosion)\n",
            "Added (C:/Users/T2420318/Dataset/output_dataset (1)/train\\Explosion\\Explosion008_x264, Explosion)\n",
            "Added (C:/Users/T2420318/Dataset/output_dataset (1)/train\\Explosion\\Explosion010_x264, Explosion)\n",
            "Added (C:/Users/T2420318/Dataset/output_dataset (1)/train\\Explosion\\Explosion011_x264, Explosion)\n",
            "Added (C:/Users/T2420318/Dataset/output_dataset (1)/train\\Explosion\\Explosion013_x264, Explosion)\n",
            "Added (C:/Users/T2420318/Dataset/output_dataset (1)/train\\Explosion\\Explosion015_x264, Explosion)\n",
            "Added (C:/Users/T2420318/Dataset/output_dataset (1)/train\\Explosion\\Explosion016_x264, Explosion)\n",
            "Added (C:/Users/T2420318/Dataset/output_dataset (1)/train\\Explosion\\Explosion018_x264, Explosion)\n",
            "Added (C:/Users/T2420318/Dataset/output_dataset (1)/train\\Explosion\\Explosion019_x264, Explosion)\n",
            "Added (C:/Users/T2420318/Dataset/output_dataset (1)/train\\Explosion\\Explosion020_x264, Explosion)\n",
            "Added (C:/Users/T2420318/Dataset/output_dataset (1)/train\\Explosion\\Explosion021_x264, Explosion)\n",
            "Added (C:/Users/T2420318/Dataset/output_dataset (1)/train\\Explosion\\Explosion022_x264, Explosion)\n",
            "Added (C:/Users/T2420318/Dataset/output_dataset (1)/train\\Explosion\\Explosion023_x264, Explosion)\n",
            "Added (C:/Users/T2420318/Dataset/output_dataset (1)/train\\Explosion\\Explosion025_x264, Explosion)\n",
            "Added (C:/Users/T2420318/Dataset/output_dataset (1)/train\\Fighting\\Fighting002_x264, Fighting)\n",
            "Added (C:/Users/T2420318/Dataset/output_dataset (1)/train\\Fighting\\Fighting004_x264, Fighting)\n",
            "Added (C:/Users/T2420318/Dataset/output_dataset (1)/train\\Fighting\\Fighting005_x264, Fighting)\n",
            "Added (C:/Users/T2420318/Dataset/output_dataset (1)/train\\Fighting\\Fighting006_x264, Fighting)\n",
            "Added (C:/Users/T2420318/Dataset/output_dataset (1)/train\\Fighting\\Fighting007_x264, Fighting)\n",
            "Added (C:/Users/T2420318/Dataset/output_dataset (1)/train\\Fighting\\Fighting008_x264, Fighting)\n",
            "Added (C:/Users/T2420318/Dataset/output_dataset (1)/train\\Fighting\\Fighting010_x264, Fighting)\n",
            "Added (C:/Users/T2420318/Dataset/output_dataset (1)/train\\Fighting\\Fighting012_x264, Fighting)\n",
            "Added (C:/Users/T2420318/Dataset/output_dataset (1)/train\\Fighting\\Fighting014_x264, Fighting)\n",
            "Added (C:/Users/T2420318/Dataset/output_dataset (1)/train\\Fighting\\Fighting016_x264, Fighting)\n",
            "Added (C:/Users/T2420318/Dataset/output_dataset (1)/train\\Fighting\\Fighting017_x264, Fighting)\n",
            "Added (C:/Users/T2420318/Dataset/output_dataset (1)/train\\Fighting\\Fighting019_x264, Fighting)\n",
            "Added (C:/Users/T2420318/Dataset/output_dataset (1)/train\\Fighting\\Fighting021_x264, Fighting)\n",
            "Added (C:/Users/T2420318/Dataset/output_dataset (1)/train\\Fighting\\Fighting022_x264, Fighting)\n",
            "Added (C:/Users/T2420318/Dataset/output_dataset (1)/train\\Fighting\\Fighting023_x264, Fighting)\n",
            "Added (C:/Users/T2420318/Dataset/output_dataset (1)/train\\Fighting\\Fighting024_x264, Fighting)\n",
            "Added (C:/Users/T2420318/Dataset/output_dataset (1)/train\\Fighting\\Fighting025_x264, Fighting)\n",
            "Added (C:/Users/T2420318/Dataset/output_dataset (1)/train\\Normal\\Normal_Videos_015_x264, Normal)\n",
            "Added (C:/Users/T2420318/Dataset/output_dataset (1)/train\\Normal\\Normal_Videos_050_x264, Normal)\n",
            "Added (C:/Users/T2420318/Dataset/output_dataset (1)/train\\Normal\\Normal_Videos_100_x264, Normal)\n",
            "Added (C:/Users/T2420318/Dataset/output_dataset (1)/train\\Normal\\Normal_Videos_129_x264, Normal)\n",
            "Added (C:/Users/T2420318/Dataset/output_dataset (1)/train\\Normal\\Normal_Videos_150_x264, Normal)\n",
            "Added (C:/Users/T2420318/Dataset/output_dataset (1)/train\\Normal\\Normal_Videos_246_x264, Normal)\n",
            "Added (C:/Users/T2420318/Dataset/output_dataset (1)/train\\Normal\\Normal_Videos_247_x264, Normal)\n",
            "Added (C:/Users/T2420318/Dataset/output_dataset (1)/train\\Normal\\Normal_Videos_248_x264, Normal)\n",
            "Added (C:/Users/T2420318/Dataset/output_dataset (1)/train\\Normal\\Normal_Videos_251_x264, Normal)\n",
            "Added (C:/Users/T2420318/Dataset/output_dataset (1)/train\\Normal\\Normal_Videos_289_x264, Normal)\n",
            "Added (C:/Users/T2420318/Dataset/output_dataset (1)/train\\Normal\\Normal_Videos_310_x264, Normal)\n",
            "Added (C:/Users/T2420318/Dataset/output_dataset (1)/train\\Normal\\Normal_Videos_312_x264, Normal)\n",
            "Added (C:/Users/T2420318/Dataset/output_dataset (1)/train\\Normal\\Normal_Videos_317_x264, Normal)\n",
            "Added (C:/Users/T2420318/Dataset/output_dataset (1)/train\\Normal\\Normal_Videos_352_x264, Normal)\n",
            "Added (C:/Users/T2420318/Dataset/output_dataset (1)/train\\Normal\\Normal_Videos_360_x264, Normal)\n",
            "Added (C:/Users/T2420318/Dataset/output_dataset (1)/train\\Normal\\Normal_Videos_365_x264, Normal)\n",
            "Added (C:/Users/T2420318/Dataset/output_dataset (1)/train\\Normal\\Normal_Videos_417_x264, Normal)\n",
            "Added (C:/Users/T2420318/Dataset/output_dataset (1)/train\\Normal\\Normal_Videos_452_x264, Normal)\n",
            "Added (C:/Users/T2420318/Dataset/output_dataset (1)/train\\Normal\\Normal_Videos_453_x264, Normal)\n",
            "Added (C:/Users/T2420318/Dataset/output_dataset (1)/train\\Normal\\Normal_Videos_478_x264, Normal)\n",
            "Added (C:/Users/T2420318/Dataset/output_dataset (1)/train\\Normal\\Normal_Videos_576_x264, Normal)\n",
            "Added (C:/Users/T2420318/Dataset/output_dataset (1)/train\\Normal\\Normal_Videos_597_x264, Normal)\n",
            "Added (C:/Users/T2420318/Dataset/output_dataset (1)/train\\Normal\\Normal_Videos_621_x264, Normal)\n",
            "Added (C:/Users/T2420318/Dataset/output_dataset (1)/train\\Normal\\Normal_Videos_634_x264, Normal)\n",
            "Added (C:/Users/T2420318/Dataset/output_dataset (1)/train\\Normal\\Normal_Videos_641_x264, Normal)\n",
            "Added (C:/Users/T2420318/Dataset/output_dataset (1)/train\\Normal\\Normal_Videos_696_x264, Normal)\n",
            "Added (C:/Users/T2420318/Dataset/output_dataset (1)/train\\Normal\\Normal_Videos_722_x264, Normal)\n",
            "Added (C:/Users/T2420318/Dataset/output_dataset (1)/train\\Normal\\Normal_Videos_745_x264, Normal)\n",
            "Added (C:/Users/T2420318/Dataset/output_dataset (1)/train\\Normal\\Normal_Videos_758_x264, Normal)\n",
            "Added (C:/Users/T2420318/Dataset/output_dataset (1)/train\\Normal\\Normal_Videos_781_x264, Normal)\n",
            "Added (C:/Users/T2420318/Dataset/output_dataset (1)/train\\Normal\\Normal_Videos_798_x264, Normal)\n",
            "Added (C:/Users/T2420318/Dataset/output_dataset (1)/train\\Normal\\Normal_Videos_801_x264, Normal)\n",
            "Added (C:/Users/T2420318/Dataset/output_dataset (1)/train\\Normal\\Normal_Videos_831_x264, Normal)\n",
            "Added (C:/Users/T2420318/Dataset/output_dataset (1)/train\\Normal\\Normal_Videos_877_x264, Normal)\n",
            "Added (C:/Users/T2420318/Dataset/output_dataset (1)/train\\Normal\\Normal_Videos_881_x264, Normal)\n",
            "Added (C:/Users/T2420318/Dataset/output_dataset (1)/train\\Normal\\Normal_Videos_885_x264, Normal)\n",
            "Added (C:/Users/T2420318/Dataset/output_dataset (1)/train\\Normal\\Normal_Videos_892_x264, Normal)\n",
            "Added (C:/Users/T2420318/Dataset/output_dataset (1)/train\\Normal\\Normal_Videos_912_x264, Normal)\n",
            "Added (C:/Users/T2420318/Dataset/output_dataset (1)/train\\Normal\\Normal_Videos_913_x264, Normal)\n",
            "Added (C:/Users/T2420318/Dataset/output_dataset (1)/train\\Normal\\Normal_Videos_929_x264, Normal)\n",
            "Added (C:/Users/T2420318/Dataset/output_dataset (1)/test\\Abuse\\Abuse002_x264, Abuse)\n",
            "Added (C:/Users/T2420318/Dataset/output_dataset (1)/test\\Abuse\\Abuse009_x264, Abuse)\n",
            "Added (C:/Users/T2420318/Dataset/output_dataset (1)/test\\Abuse\\Abuse010_x264, Abuse)\n",
            "Added (C:/Users/T2420318/Dataset/output_dataset (1)/test\\Abuse\\Abuse012_x264, Abuse)\n",
            "Added (C:/Users/T2420318/Dataset/output_dataset (1)/test\\Abuse\\Abuse014_x264, Abuse)\n",
            "Added (C:/Users/T2420318/Dataset/output_dataset (1)/test\\Abuse\\Abuse017_x264, Abuse)\n",
            "Added (C:/Users/T2420318/Dataset/output_dataset (1)/test\\Abuse\\Abuse024_x264, Abuse)\n",
            "Added (C:/Users/T2420318/Dataset/output_dataset (1)/test\\Arrest\\Arrest002_x264, Arrest)\n",
            "Added (C:/Users/T2420318/Dataset/output_dataset (1)/test\\Arrest\\Arrest009_x264, Arrest)\n",
            "Added (C:/Users/T2420318/Dataset/output_dataset (1)/test\\Arrest\\Arrest010_x264, Arrest)\n",
            "Added (C:/Users/T2420318/Dataset/output_dataset (1)/test\\Arrest\\Arrest013_x264, Arrest)\n",
            "Added (C:/Users/T2420318/Dataset/output_dataset (1)/test\\Arrest\\Arrest016_x264, Arrest)\n",
            "Added (C:/Users/T2420318/Dataset/output_dataset (1)/test\\Arrest\\Arrest019_x264, Arrest)\n",
            "Added (C:/Users/T2420318/Dataset/output_dataset (1)/test\\Arrest\\Arrest021_x264, Arrest)\n",
            "Added (C:/Users/T2420318/Dataset/output_dataset (1)/test\\Arson\\Arson002_x264, Arson)\n",
            "Added (C:/Users/T2420318/Dataset/output_dataset (1)/test\\Arson\\Arson008_x264, Arson)\n",
            "Added (C:/Users/T2420318/Dataset/output_dataset (1)/test\\Assault\\Assault002_x264, Assault)\n",
            "Added (C:/Users/T2420318/Dataset/output_dataset (1)/test\\Assault\\Assault009_x264, Assault)\n",
            "Added (C:/Users/T2420318/Dataset/output_dataset (1)/test\\Assault\\Assault010_x264, Assault)\n",
            "Added (C:/Users/T2420318/Dataset/output_dataset (1)/test\\Assault\\Assault012_x264, Assault)\n",
            "Added (C:/Users/T2420318/Dataset/output_dataset (1)/test\\Assault\\Assault014_x264, Assault)\n",
            "Added (C:/Users/T2420318/Dataset/output_dataset (1)/test\\Assault\\Assault017_x264, Assault)\n",
            "Added (C:/Users/T2420318/Dataset/output_dataset (1)/test\\Assault\\Assault019_x264, Assault)\n",
            "Added (C:/Users/T2420318/Dataset/output_dataset (1)/test\\Burglary\\Burglary002_x264, Burglary)\n",
            "Added (C:/Users/T2420318/Dataset/output_dataset (1)/test\\Burglary\\Burglary009_x264, Burglary)\n",
            "Added (C:/Users/T2420318/Dataset/output_dataset (1)/test\\Explosion\\Explosion002_x264, Explosion)\n",
            "Added (C:/Users/T2420318/Dataset/output_dataset (1)/test\\Explosion\\Explosion009_x264, Explosion)\n",
            "Added (C:/Users/T2420318/Dataset/output_dataset (1)/test\\Explosion\\Explosion010_x264, Explosion)\n",
            "Added (C:/Users/T2420318/Dataset/output_dataset (1)/test\\Explosion\\Explosion012_x264, Explosion)\n",
            "Added (C:/Users/T2420318/Dataset/output_dataset (1)/test\\Explosion\\Explosion014_x264, Explosion)\n",
            "Added (C:/Users/T2420318/Dataset/output_dataset (1)/test\\Explosion\\Explosion017_x264, Explosion)\n",
            "Added (C:/Users/T2420318/Dataset/output_dataset (1)/test\\Explosion\\Explosion024_x264, Explosion)\n",
            "Added (C:/Users/T2420318/Dataset/output_dataset (1)/test\\Fighting\\Fighting003_x264, Fighting)\n",
            "Added (C:/Users/T2420318/Dataset/output_dataset (1)/test\\Fighting\\Fighting009_x264, Fighting)\n",
            "Added (C:/Users/T2420318/Dataset/output_dataset (1)/test\\Fighting\\Fighting010_x264, Fighting)\n",
            "Added (C:/Users/T2420318/Dataset/output_dataset (1)/test\\Fighting\\Fighting011_x264, Fighting)\n",
            "Added (C:/Users/T2420318/Dataset/output_dataset (1)/test\\Fighting\\Fighting013_x264, Fighting)\n",
            "Added (C:/Users/T2420318/Dataset/output_dataset (1)/test\\Fighting\\Fighting015_x264, Fighting)\n",
            "Added (C:/Users/T2420318/Dataset/output_dataset (1)/test\\Fighting\\Fighting018_x264, Fighting)\n",
            "Added (C:/Users/T2420318/Dataset/output_dataset (1)/test\\Fighting\\Fighting020_x264, Fighting)\n",
            "Added (C:/Users/T2420318/Dataset/output_dataset (1)/test\\Normal\\Normal_Videos017_x264, Normal)\n",
            "Added (C:/Users/T2420318/Dataset/output_dataset (1)/test\\Normal\\Normal_Videos021_x264, Normal)\n",
            "Added (C:/Users/T2420318/Dataset/output_dataset (1)/test\\Normal\\Normal_Videos026_x264, Normal)\n",
            "Added (C:/Users/T2420318/Dataset/output_dataset (1)/test\\Normal\\Normal_Videos038_x264, Normal)\n",
            "Added (C:/Users/T2420318/Dataset/output_dataset (1)/test\\Normal\\Normal_Videos_345_x264, Normal)\n",
            "Added (C:/Users/T2420318/Dataset/output_dataset (1)/test\\Normal\\Normal_Videos_401_x264, Normal)\n",
            "Added (C:/Users/T2420318/Dataset/output_dataset (1)/test\\Normal\\Normal_Videos_439_x264, Normal)\n",
            "Added (C:/Users/T2420318/Dataset/output_dataset (1)/test\\Normal\\Normal_Videos_603_x264, Normal)\n",
            "Added (C:/Users/T2420318/Dataset/output_dataset (1)/test\\Normal\\Normal_Videos_606_x264, Normal)\n",
            "Added (C:/Users/T2420318/Dataset/output_dataset (1)/test\\Normal\\Normal_Videos_656_x264, Normal)\n",
            "Added (C:/Users/T2420318/Dataset/output_dataset (1)/test\\Normal\\Normal_Videos_704_x264, Normal)\n",
            "Added (C:/Users/T2420318/Dataset/output_dataset (1)/test\\Normal\\Normal_Videos_828_x264, Normal)\n",
            "Added (C:/Users/T2420318/Dataset/output_dataset (1)/test\\Normal\\Normal_Videos_905_x264, Normal)\n",
            "Added (C:/Users/T2420318/Dataset/output_dataset (1)/test\\Normal\\Normal_Videos_914_x264, Normal)\n",
            "Sample training data: [('C:/Users/T2420318/Dataset/output_dataset (1)/train\\\\Abuse\\\\Abuse001_x264', 'Abuse'), ('C:/Users/T2420318/Dataset/output_dataset (1)/train\\\\Abuse\\\\Abuse003_x264', 'Abuse'), ('C:/Users/T2420318/Dataset/output_dataset (1)/train\\\\Abuse\\\\Abuse004_x264', 'Abuse'), ('C:/Users/T2420318/Dataset/output_dataset (1)/train\\\\Abuse\\\\Abuse005_x264', 'Abuse'), ('C:/Users/T2420318/Dataset/output_dataset (1)/train\\\\Abuse\\\\Abuse006_x264', 'Abuse')]\n",
            "Sample testing data: [('C:/Users/T2420318/Dataset/output_dataset (1)/test\\\\Abuse\\\\Abuse002_x264', 'Abuse'), ('C:/Users/T2420318/Dataset/output_dataset (1)/test\\\\Abuse\\\\Abuse009_x264', 'Abuse'), ('C:/Users/T2420318/Dataset/output_dataset (1)/test\\\\Abuse\\\\Abuse010_x264', 'Abuse'), ('C:/Users/T2420318/Dataset/output_dataset (1)/test\\\\Abuse\\\\Abuse012_x264', 'Abuse'), ('C:/Users/T2420318/Dataset/output_dataset (1)/test\\\\Abuse\\\\Abuse014_x264', 'Abuse')]\n"
          ]
        }
      ],
      "source": [
        "def load_dataset(directory):\n",
        "    data = []\n",
        "    for category in os.listdir(directory):\n",
        "        class_path = os.path.join(directory, category)\n",
        "        for video_folder in os.listdir(class_path):\n",
        "            video_path = os.path.join(class_path, video_folder)\n",
        "            data.append((video_path, category))  # Make sure this tuple is being created\n",
        "            print(f\"Added ({video_path}, {category})\")  # Debug print\n",
        "    return data\n",
        "train_data = load_dataset('C:/Users/T2420318/Dataset/output_dataset (1)/train')\n",
        "test_data = load_dataset('C:/Users/T2420318/Dataset/output_dataset (1)/test')\n",
        "\n",
        "# Print some sample data to verify\n",
        "print(\"Sample training data:\", train_data[:5])\n",
        "print(\"Sample testing data:\", test_data[:5])\n"
      ]
    },
    {
      "cell_type": "code",
      "execution_count": null,
      "id": "866d5821-f63b-42ce-9f41-41f454f9fb47",
      "metadata": {
        "id": "866d5821-f63b-42ce-9f41-41f454f9fb47",
        "outputId": "528a3125-9c34-4e9a-d81d-d90d394dc756"
      },
      "outputs": [
        {
          "name": "stdout",
          "output_type": "stream",
          "text": [
            "Number of training samples: 149\n",
            "Number of testing samples: 54\n"
          ]
        }
      ],
      "source": [
        "import os\n",
        "import torch\n",
        "from torch.utils.data import Dataset, DataLoader\n",
        "import torchvision.transforms as transforms\n",
        "\n",
        "class VideoDataset(Dataset):\n",
        "    def __init__(self, data_dir, class_to_idx, num_frames, transform=None):\n",
        "        self.data = []\n",
        "        self.class_to_idx = class_to_idx\n",
        "        self.num_frames = num_frames\n",
        "        self.transform = transform\n",
        "        self.idx_to_class = {v: k for k, v in class_to_idx.items()}\n",
        "\n",
        "        # Populate data list with video paths and categories\n",
        "        for category in os.listdir(data_dir):\n",
        "            category_path = os.path.join(data_dir, category)\n",
        "            if os.path.isdir(category_path):\n",
        "                for video_file in os.listdir(category_path):\n",
        "                    video_path = os.path.join(category_path, video_file)\n",
        "                    self.data.append((video_path, category))\n",
        "\n",
        "    def __getitem__(self, idx):\n",
        "        video_path, category = self.data[idx]\n",
        "        label = self.class_to_idx[category]\n",
        "\n",
        "        # Dummy implementation for frame loading\n",
        "        frames = torch.randn(self.num_frames, 3, 224, 224)\n",
        "\n",
        "        if self.transform:\n",
        "            frames = self.transform(frames)\n",
        "\n",
        "        return frames, label\n",
        "\n",
        "    def __len__(self):\n",
        "        return len(self.data)\n",
        "\n",
        "# Rest of your code remains the same\n",
        "class_to_idx = {'Abuse': 0, 'Arrest': 1, 'Assault': 2, 'Fighting': 3,\n",
        "                'Explosion': 4, 'Burglary': 5, 'Arson': 6, 'Normal': 7}\n",
        "\n",
        "num_frames = 16\n",
        "train_dir = 'C:/Users/T2420318/Dataset/output_dataset (1)/train'\n",
        "test_dir = 'C:/Users/T2420318/Dataset/output_dataset (1)/test'\n",
        "\n",
        "\n",
        "\n",
        "train_dataset = VideoDataset(train_dir, class_to_idx, num_frames)\n",
        "test_dataset = VideoDataset(test_dir, class_to_idx, num_frames)\n",
        "\n",
        "train_loader = DataLoader(train_dataset, batch_size=16, shuffle=True)\n",
        "test_loader = DataLoader(test_dataset, batch_size=16, shuffle=False)\n",
        "\n",
        "print(f\"Number of training samples: {len(train_dataset)}\")\n",
        "print(f\"Number of testing samples: {len(test_dataset)}\")"
      ]
    },
    {
      "cell_type": "code",
      "execution_count": null,
      "id": "5ed0b2b3-b63c-4a82-8eef-10f0476e6aff",
      "metadata": {
        "id": "5ed0b2b3-b63c-4a82-8eef-10f0476e6aff",
        "outputId": "10641a09-468c-46c4-fa2b-7a79fccec1da"
      },
      "outputs": [
        {
          "name": "stdout",
          "output_type": "stream",
          "text": [
            "\n",
            "First training sample:\n",
            " - Frames shape: torch.Size([16, 3, 224, 224])\n",
            " - Label: 0 (Abuse)\n"
          ]
        }
      ],
      "source": [
        "try:\n",
        "    first_train_sample = train_dataset[0]\n",
        "    frames, label = first_train_sample\n",
        "    print(\"\\nFirst training sample:\")\n",
        "    print(f\" - Frames shape: {frames.shape}\")\n",
        "    print(f\" - Label: {label} ({train_dataset.idx_to_class[label]})\")\n",
        "except Exception as e:\n",
        "    print(f\"An error occurred: {e}\")"
      ]
    },
    {
      "cell_type": "code",
      "execution_count": null,
      "id": "e47955da-315c-4ae0-8be0-21bf19d31ace",
      "metadata": {
        "id": "e47955da-315c-4ae0-8be0-21bf19d31ace",
        "outputId": "cd8b920e-62fe-4eb5-b5e3-7bfb982bdd4c"
      },
      "outputs": [
        {
          "name": "stdout",
          "output_type": "stream",
          "text": [
            "Number of training samples: 149\n",
            "Number of testing samples: 54\n",
            "\n",
            "First training sample:\n",
            " - Frames shape: torch.Size([16, 3, 224, 224])\n",
            " - Label: 0 (Abuse)\n",
            "\n",
            "Batch from DataLoader:\n",
            " - Batch frames shape: torch.Size([16, 16, 3, 224, 224])\n",
            " - Batch targets: tensor([7, 1, 0, 4, 0, 3, 7, 7, 3, 4, 7, 6, 1, 7, 7, 3])\n"
          ]
        }
      ],
      "source": [
        "# Print the dataset size\n",
        "import torch\n",
        "print(f\"Number of training samples: {len(train_dataset)}\")\n",
        "print(f\"Number of testing samples: {len(test_dataset)}\")\n",
        "\n",
        "# Test the first item in the train dataset\n",
        "first_train_sample = train_dataset[0]  # Access the first sample\n",
        "frames, label = first_train_sample\n",
        "\n",
        "print(\"\\nFirst training sample:\")\n",
        "print(f\" - Frames shape: {frames.shape}\")  # Should be [num_frames, channels, height, width]\n",
        "print(f\" - Label: {label} ({train_dataset.idx_to_class[label]})\")  # Print label and its corresponding class\n",
        "\n",
        "# Check the DataLoader\n",
        "for i, (data, targets) in enumerate(train_loader):\n",
        "    print(\"\\nBatch from DataLoader:\")\n",
        "    print(f\" - Batch frames shape: {data.shape}\")  # [batch_size, num_frames, channels, height, width]\n",
        "    print(f\" - Batch targets: {targets}\")\n",
        "    break  # Print only the first batch\n"
      ]
    },
    {
      "cell_type": "code",
      "execution_count": null,
      "id": "8af843f6-6bc5-4933-ab29-27f2691c9f73",
      "metadata": {
        "id": "8af843f6-6bc5-4933-ab29-27f2691c9f73"
      },
      "outputs": [],
      "source": [
        "# if torch.isnan(loss) or torch.isinf(loss):\n",
        "#     print(f\"Invalid Loss Value: {loss}\")\n",
        "# else:\n",
        "#     scaler.scale(loss).backward()\n"
      ]
    },
    {
      "cell_type": "code",
      "execution_count": null,
      "id": "a28fc697-4604-4224-92d2-40bae4c7112f",
      "metadata": {
        "id": "a28fc697-4604-4224-92d2-40bae4c7112f",
        "outputId": "007103f0-3690-4f5e-b98d-ffedadc42b69"
      },
      "outputs": [
        {
          "name": "stdout",
          "output_type": "stream",
          "text": [
            "Model configuration loaded successfully\n"
          ]
        },
        {
          "name": "stderr",
          "output_type": "stream",
          "text": [
            "Some weights of VideoMAEForVideoClassification were not initialized from the model checkpoint at MCG-NJU/videomae-base and are newly initialized: ['classifier.bias', 'classifier.weight']\n",
            "You should probably TRAIN this model on a down-stream task to be able to use it for predictions and inference.\n"
          ]
        },
        {
          "name": "stdout",
          "output_type": "stream",
          "text": [
            "Pretrained weights loaded successfully\n",
            "Model input verification successful\n",
            "Model successfully initialized and moved to cuda\n"
          ]
        }
      ],
      "source": [
        "import torch\n",
        "import torch.nn as nn\n",
        "from transformers import AutoModelForVideoClassification, AutoConfig\n",
        "\n",
        "def initialize_model(num_classes):\n",
        "    \"\"\"Initialize the model with specific configuration\"\"\"\n",
        "    try:\n",
        "        # Load configuration with explicit image size parameters\n",
        "        config = AutoConfig.from_pretrained(\n",
        "            \"MCG-NJU/videomae-base\",\n",
        "            num_labels=num_classes,\n",
        "            torch_dtype=torch.float32,\n",
        "            output_hidden_states=False,\n",
        "            output_attentions=False,\n",
        "            image_size=224,  # Add explicit image size\n",
        "            num_frames=16,   # Add number of frames\n",
        "            patch_size=16    # Add patch size\n",
        "        )\n",
        "\n",
        "        print(\"Model configuration loaded successfully\")\n",
        "\n",
        "        # Create model with configuration\n",
        "        model = AutoModelForVideoClassification.from_config(config)\n",
        "\n",
        "        # Modify classifier\n",
        "        hidden_size = config.hidden_size\n",
        "        model.classifier = nn.Sequential(\n",
        "            nn.LayerNorm(hidden_size),\n",
        "            nn.Dropout(0.1),\n",
        "            nn.Linear(hidden_size, num_classes)\n",
        "        )\n",
        "\n",
        "        # Load pretrained weights with strict=False\n",
        "        pretrained = AutoModelForVideoClassification.from_pretrained(\n",
        "            \"MCG-NJU/videomae-base\",\n",
        "            config=config,\n",
        "            ignore_mismatched_sizes=True,\n",
        "            torch_dtype=torch.float32  # Explicitly set dtype\n",
        "        )\n",
        "\n",
        "        # Copy pretrained weights except classifier\n",
        "        pretrained_dict = pretrained.state_dict()\n",
        "        model_dict = model.state_dict()\n",
        "        pretrained_dict = {k: v for k, v in pretrained_dict.items()\n",
        "                          if k in model_dict and 'classifier' not in k}\n",
        "        model_dict.update(pretrained_dict)\n",
        "        model.load_state_dict(model_dict, strict=False)\n",
        "\n",
        "        print(\"Pretrained weights loaded successfully\")\n",
        "\n",
        "        return model\n",
        "\n",
        "    except Exception as e:\n",
        "        print(f\"Error in model initialization: {e}\")\n",
        "        torch.cuda.empty_cache()\n",
        "        raise\n",
        "\n",
        "def verify_model_inputs(model, device):\n",
        "    \"\"\"Verify model inputs with dummy data\"\"\"\n",
        "    model.eval()\n",
        "    with torch.no_grad():\n",
        "        # Create dummy input (batch_size, num_frames, channels, height, width)\n",
        "        dummy_input = torch.randn(1, 16, 3, 224, 224).to(device)\n",
        "        try:\n",
        "            _ = model(dummy_input)\n",
        "            print(\"Model input verification successful\")\n",
        "        except Exception as e:\n",
        "            print(f\"Model input verification failed: {e}\")\n",
        "            raise\n",
        "\n",
        "def main():\n",
        "    try:\n",
        "        device = torch.device(\"cuda\" if torch.cuda.is_available() else \"cpu\")\n",
        "\n",
        "        # Initialize model\n",
        "        NUM_CLASSES = 8\n",
        "        model = initialize_model(NUM_CLASSES)\n",
        "\n",
        "        # Move model to device\n",
        "        model = model.to(device)\n",
        "\n",
        "        # Verify model inputs\n",
        "        verify_model_inputs(model, device)\n",
        "\n",
        "        print(f\"Model successfully initialized and moved to {device}\")\n",
        "\n",
        "    except Exception as e:\n",
        "        print(f\"Error in main execution: {e}\")\n",
        "        torch.cuda.empty_cache()\n",
        "        raise\n",
        "\n",
        "if __name__ == \"__main__\":\n",
        "    main()"
      ]
    },
    {
      "cell_type": "code",
      "execution_count": null,
      "id": "14a7c154-dc93-4569-b614-666f3571873b",
      "metadata": {
        "id": "14a7c154-dc93-4569-b614-666f3571873b",
        "outputId": "88479848-d582-48dd-ec6b-19dff1bfc6bc"
      },
      "outputs": [
        {
          "name": "stdout",
          "output_type": "stream",
          "text": [
            "Class Distribution: Counter({7: 40, 0: 23, 2: 19, 4: 19, 1: 17, 3: 17, 5: 8, 6: 6})\n"
          ]
        }
      ],
      "source": [
        "from collections import Counter\n",
        "\n",
        "# Count class distribution\n",
        "label_counts = Counter(target for _, target in train_loader.dataset)\n",
        "print(\"Class Distribution:\", label_counts)\n"
      ]
    },
    {
      "cell_type": "code",
      "execution_count": null,
      "id": "f2ac00b3-558e-4a64-be79-609da1800af2",
      "metadata": {
        "id": "f2ac00b3-558e-4a64-be79-609da1800af2",
        "outputId": "f8814f1b-d93d-40d8-c026-ccdca155f614"
      },
      "outputs": [
        {
          "name": "stderr",
          "output_type": "stream",
          "text": [
            "Epoch 1/15: 100%|██████████| 10/10 [00:09<00:00,  1.10it/s, Batch Loss=2.3854, Epoch Accuracy=24.83%]\n"
          ]
        },
        {
          "name": "stdout",
          "output_type": "stream",
          "text": [
            "Test Loss: 1.9058, Test Accuracy: 25.93%\n",
            "End of Epoch 1/15 | Train Loss: 2.0779 | Train Accuracy: 24.83% | Test Loss: 1.9058 | Test Accuracy: 25.93%\n"
          ]
        },
        {
          "name": "stderr",
          "output_type": "stream",
          "text": [
            "Epoch 2/15: 100%|██████████| 10/10 [00:08<00:00,  1.15it/s, Batch Loss=2.1662, Epoch Accuracy=24.83%]\n"
          ]
        },
        {
          "name": "stdout",
          "output_type": "stream",
          "text": [
            "Test Loss: 1.8642, Test Accuracy: 25.93%\n",
            "End of Epoch 2/15 | Train Loss: 2.0360 | Train Accuracy: 24.83% | Test Loss: 1.8642 | Test Accuracy: 25.93%\n"
          ]
        },
        {
          "name": "stderr",
          "output_type": "stream",
          "text": [
            "Epoch 3/15: 100%|██████████| 10/10 [00:08<00:00,  1.11it/s, Batch Loss=2.1393, Epoch Accuracy=26.17%]\n"
          ]
        },
        {
          "name": "stdout",
          "output_type": "stream",
          "text": [
            "Test Loss: 1.8752, Test Accuracy: 24.07%\n",
            "End of Epoch 3/15 | Train Loss: 1.9940 | Train Accuracy: 26.17% | Test Loss: 1.8752 | Test Accuracy: 24.07%\n"
          ]
        },
        {
          "name": "stderr",
          "output_type": "stream",
          "text": [
            "Epoch 4/15: 100%|██████████| 10/10 [00:08<00:00,  1.15it/s, Batch Loss=1.8395, Epoch Accuracy=24.83%]\n"
          ]
        },
        {
          "name": "stdout",
          "output_type": "stream",
          "text": [
            "Test Loss: 1.8556, Test Accuracy: 25.93%\n",
            "End of Epoch 4/15 | Train Loss: 1.9639 | Train Accuracy: 24.83% | Test Loss: 1.8556 | Test Accuracy: 25.93%\n"
          ]
        },
        {
          "name": "stderr",
          "output_type": "stream",
          "text": [
            "Epoch 5/15: 100%|██████████| 10/10 [00:08<00:00,  1.14it/s, Batch Loss=1.6621, Epoch Accuracy=26.85%]\n"
          ]
        },
        {
          "name": "stdout",
          "output_type": "stream",
          "text": [
            "Test Loss: 1.8654, Test Accuracy: 25.93%\n",
            "End of Epoch 5/15 | Train Loss: 1.9653 | Train Accuracy: 26.85% | Test Loss: 1.8654 | Test Accuracy: 25.93%\n"
          ]
        },
        {
          "name": "stderr",
          "output_type": "stream",
          "text": [
            "Epoch 6/15: 100%|██████████| 10/10 [00:08<00:00,  1.12it/s, Batch Loss=1.7226, Epoch Accuracy=26.85%]\n"
          ]
        },
        {
          "name": "stdout",
          "output_type": "stream",
          "text": [
            "Test Loss: 1.8354, Test Accuracy: 25.93%\n",
            "End of Epoch 6/15 | Train Loss: 1.9505 | Train Accuracy: 26.85% | Test Loss: 1.8354 | Test Accuracy: 25.93%\n",
            "Early stopping triggered!\n"
          ]
        }
      ],
      "source": [
        "import torch\n",
        "from tqdm import tqdm\n",
        "from torch.optim.lr_scheduler import CosineAnnealingLR\n",
        "\n",
        "def train(model, train_loader, test_loader, device, epochs=15):\n",
        "    \"\"\"\n",
        "    Train the VideoMAE model with loss, accuracy tracking, and a progress bar.\n",
        "\n",
        "    Args:\n",
        "    - model: Pretrained VideoMAE model.\n",
        "    - train_loader: DataLoader for training data.\n",
        "    - test_loader: DataLoader for testing data.\n",
        "    - device: Device (cuda or cpu).\n",
        "    - epochs: Number of training epochs.\n",
        "\n",
        "    Returns:\n",
        "    - Lists of train & test losses and accuracies per epoch.\n",
        "    \"\"\"\n",
        "\n",
        "    # ✅ Initialize optimizer, loss function, and scheduler\n",
        "    optimizer = torch.optim.AdamW(model.parameters(), lr=1e-4)  # Reduced LR\n",
        "    scheduler = CosineAnnealingLR(optimizer, T_max=epochs, eta_min=1e-6)\n",
        "    loss_fn = torch.nn.CrossEntropyLoss()\n",
        "\n",
        "    # ✅ Lists to store metrics\n",
        "    train_losses, train_accuracies = [], []\n",
        "    test_losses, test_accuracies = [], []\n",
        "\n",
        "    best_test_acc = 0\n",
        "    patience = 5\n",
        "    patience_counter = 0  # ✅ Fix: Initialize early stopping counter\n",
        "\n",
        "    model.train()\n",
        "    for epoch in range(epochs):\n",
        "        running_loss = 0.0\n",
        "        correct, total = 0, 0\n",
        "\n",
        "        # ✅ Training loop with tqdm progress bar\n",
        "        progress_bar = tqdm(enumerate(train_loader), total=len(train_loader), desc=f\"Epoch {epoch + 1}/{epochs}\")\n",
        "        for batch_idx, (data, target) in progress_bar:\n",
        "            data, target = data.to(device), target.to(device)\n",
        "\n",
        "            optimizer.zero_grad()\n",
        "            output = model(data)  # ✅ Fix: No need to wrap in a list\n",
        "            loss = loss_fn(output.logits, target)\n",
        "\n",
        "            loss.backward()\n",
        "            optimizer.step()\n",
        "\n",
        "            # ✅ Update training metrics\n",
        "            running_loss += loss.item()\n",
        "            _, predicted = torch.max(output.logits, 1)\n",
        "            correct += (predicted == target).sum().item()\n",
        "            total += target.size(0)\n",
        "\n",
        "            # ✅ Update progress bar\n",
        "            progress_bar.set_postfix({\"Batch Loss\": f\"{loss.item():.4f}\", \"Epoch Accuracy\": f\"{100 * correct / total:.2f}%\"})\n",
        "\n",
        "        # ✅ Store per-epoch metrics\n",
        "        train_losses.append(running_loss / len(train_loader))\n",
        "        train_accuracies.append(100 * correct / total)\n",
        "\n",
        "        # ✅ Perform evaluation at the end of the epoch\n",
        "        test_loss, test_accuracy, _, _ = evaluate_with_predictions(model, test_loader, device)\n",
        "        test_losses.append(test_loss)\n",
        "        test_accuracies.append(test_accuracy)\n",
        "\n",
        "        print(f\"End of Epoch {epoch + 1}/{epochs} | Train Loss: {train_losses[-1]:.4f} | Train Accuracy: {train_accuracies[-1]:.2f}% | Test Loss: {test_loss:.4f} | Test Accuracy: {test_accuracy:.2f}%\")\n",
        "\n",
        "        # ✅ Early Stopping (Stop if test accuracy doesn't improve for `patience` epochs)\n",
        "        if test_accuracy > best_test_acc:\n",
        "            best_test_acc = test_accuracy\n",
        "            torch.save(model.state_dict(), \"best_model_2.pth\")\n",
        "            patience_counter = 0  # ✅ Reset patience counter\n",
        "        else:\n",
        "            patience_counter += 1\n",
        "\n",
        "        if patience_counter >= patience:\n",
        "            print(\"Early stopping triggered!\")\n",
        "            break  # Stop training if no improvement\n",
        "\n",
        "        scheduler.step()  # ✅ Update learning rate\n",
        "\n",
        "    return train_losses, train_accuracies, test_losses, test_accuracies\n",
        "\n",
        "\n",
        "# ✅ Data Augmentation (Less aggressive than before)\n",
        "# import torchvision.transforms as transforms\n",
        "data_augmentations = transforms.Compose([\n",
        "    transforms.RandomHorizontalFlip(),\n",
        "    transforms.RandomRotation(45),  # Reduce rotation\n",
        "    transforms.ColorJitter(brightness=0.3, contrast=0.3, saturation=0.3),\n",
        "    transforms.RandomResizedCrop((224, 224), scale=(0.8, 1.0)),  # Less aggressive cropping\n",
        "    transforms.RandomApply([transforms.GaussianBlur(3)], p=0.2),  # Reduce blur\n",
        "    transforms.RandomErasing(p=0.3, scale=(0.02, 0.2)),  # Reduce Cutout\n",
        "    transforms.Normalize(mean=[0.485, 0.456, 0.406], std=[0.229, 0.224, 0.225])\n",
        "])\n",
        "\n",
        "# ✅ Clear GPU Memory\n",
        "torch.cuda.empty_cache()\n",
        "\n",
        "# ✅ Train the model\n",
        "train_losses, train_accuracies, test_losses, test_accuracies = train(model, train_loader, test_loader, device=\"cuda\", epochs=15)\n"
      ]
    },
    {
      "cell_type": "code",
      "execution_count": null,
      "id": "01d23811-a8f6-46c9-9c62-b13a2cc485f1",
      "metadata": {
        "id": "01d23811-a8f6-46c9-9c62-b13a2cc485f1",
        "outputId": "db075024-9d8c-4ab8-cf4c-d33f206c0609"
      },
      "outputs": [
        {
          "name": "stdout",
          "output_type": "stream",
          "text": [
            "Model saved to C:\\Users\\T2420318\\Dataset\\Final_Model\n"
          ]
        }
      ],
      "source": [
        "import shutil\n",
        "\n",
        "source_path = 'best_model_2.pth'\n",
        "target_path = r'C:\\Users\\T2420318\\Dataset\\Final_Model'  # Adjust this to your preferred location\n",
        "\n",
        "# Move the file\n",
        "shutil.move(source_path, target_path)\n",
        "print(f\"Model saved to {target_path}\")\n"
      ]
    },
    {
      "cell_type": "code",
      "execution_count": null,
      "id": "41b57aff-7582-46fb-b751-b0fa5f03a2ad",
      "metadata": {
        "id": "41b57aff-7582-46fb-b751-b0fa5f03a2ad",
        "outputId": "5e23464a-cd43-44d4-a3cd-17df9cc475ea"
      },
      "outputs": [
        {
          "name": "stderr",
          "output_type": "stream",
          "text": [
            "C:\\Users\\T2420318\\AppData\\Local\\Temp\\ipykernel_3004\\3741237604.py:5: FutureWarning: You are using `torch.load` with `weights_only=False` (the current default value), which uses the default pickle module implicitly. It is possible to construct malicious pickle data which will execute arbitrary code during unpickling (See https://github.com/pytorch/pytorch/blob/main/SECURITY.md#untrusted-models for more details). In a future release, the default value for `weights_only` will be flipped to `True`. This limits the functions that could be executed during unpickling. Arbitrary objects will no longer be allowed to be loaded via this mode unless they are explicitly allowlisted by the user via `torch.serialization.add_safe_globals`. We recommend you start setting `weights_only=True` for any use case where you don't have full control of the loaded file. Please open an issue on GitHub for any issues related to this experimental feature.\n",
            "  state_dict = torch.load(r\"C:\\Users\\T2420318\\Dataset\\Final_Model\\best_model_2.pth\")\n"
          ]
        },
        {
          "name": "stdout",
          "output_type": "stream",
          "text": [
            "Model state dictionary loaded successfully from 'path_to_saved_model.pth'.\n",
            "Model moved to cuda.\n",
            "Model set to evaluation mode.\n"
          ]
        }
      ],
      "source": [
        "import torch\n",
        "\n",
        "# Load the previously saved state_dict into the model\n",
        "# Use strict=False to ignore missing or unexpected keys\n",
        "state_dict = torch.load(r\"C:\\Users\\T2420318\\Dataset\\Final_Model\\best_model_2.pth\")\n",
        "model.load_state_dict(state_dict, strict=False)\n",
        "\n",
        "print(\"Model state dictionary loaded successfully from 'path_to_saved_model.pth'.\")\n",
        "\n",
        "# Assuming device setup is defined, move the model to the appropriate device\n",
        "device = torch.device(\"cuda\" if torch.cuda.is_available() else \"cpu\")\n",
        "model.to(device)\n",
        "print(f\"Model moved to {device}.\")\n",
        "\n",
        "# Set the model to evaluation mode for testing or validation\n",
        "model.eval()\n",
        "print(\"Model set to evaluation mode.\")\n"
      ]
    },
    {
      "cell_type": "code",
      "execution_count": null,
      "id": "a1e353d8-d607-4e5c-a7dd-9f00afbe710d",
      "metadata": {
        "scrolled": true,
        "id": "a1e353d8-d607-4e5c-a7dd-9f00afbe710d",
        "outputId": "93ed6927-95e3-45cd-b859-5fc3ecc7ac15"
      },
      "outputs": [
        {
          "name": "stdout",
          "output_type": "stream",
          "text": [
            "Test Loss: 1.9142, Test Accuracy: 25.93%\n"
          ]
        }
      ],
      "source": [
        "def evaluate_with_predictions(model, test_loader, device):\n",
        "    model.eval()  # Set the model to evaluation mode\n",
        "    correct = 0\n",
        "    total = 0\n",
        "    running_loss = 0.0\n",
        "    loss_fn = torch.nn.CrossEntropyLoss()\n",
        "    all_predictions = []\n",
        "    all_labels = []\n",
        "\n",
        "    with torch.no_grad():\n",
        "        for data, target in test_loader:\n",
        "            data, target = data.to(device), target.to(device)\n",
        "\n",
        "            if data.ndim == 6:\n",
        "                data = data.squeeze(1)  # Fix unnecessary dimensions if present\n",
        "\n",
        "            # ✅ Corrected: Remove list wrapping\n",
        "            output = model(pixel_values=data)  # VideoMAE expects tensor, not list\n",
        "\n",
        "            # ✅ Extract logits correctly\n",
        "            logits = output.logits if hasattr(output, \"logits\") else output\n",
        "\n",
        "            # ✅ Compute loss\n",
        "            loss = loss_fn(logits, target)\n",
        "            running_loss += loss.item()\n",
        "\n",
        "            # ✅ Get predictions\n",
        "            _, predicted = torch.max(logits, 1)\n",
        "            all_predictions.extend(predicted.cpu().numpy())  # Store predictions\n",
        "            all_labels.extend(target.cpu().numpy())  # Store true labels\n",
        "\n",
        "            # ✅ Update total and correct counts\n",
        "            total += target.size(0)\n",
        "            correct += (predicted == target).sum().item()\n",
        "\n",
        "    test_loss = running_loss / len(test_loader)\n",
        "    test_accuracy = 100 * correct / total\n",
        "\n",
        "    print(f\"Test Loss: {test_loss:.4f}, Test Accuracy: {test_accuracy:.2f}%\")\n",
        "\n",
        "    return test_loss, test_accuracy, all_labels, all_predictions  # Return required values\n",
        "\n",
        "# ✅ Now call the function correctly\n",
        "test_loss, test_accuracy, true_labels, predictions = evaluate_with_predictions(model, test_loader, device)\n",
        "\n",
        "# ✅ Save the trained model correctly\n",
        "# torch.save(model.state_dict(), r'C:\\Users\\T2420318\\Dataset\\Model\\VideoMAE_model.pth')\n"
      ]
    },
    {
      "cell_type": "code",
      "execution_count": null,
      "id": "41643e19-6d1c-4647-bdbc-05dc0aa3980d",
      "metadata": {
        "id": "41643e19-6d1c-4647-bdbc-05dc0aa3980d",
        "outputId": "a073f500-3301-4719-b68f-abe743d22cfb"
      },
      "outputs": [
        {
          "data": {
            "image/png": "[encoded data removed]",
            "text/plain": [
              "<Figure size 1400x700 with 2 Axes>"
            ]
          },
          "metadata": {},
          "output_type": "display_data"
        }
      ],
      "source": [
        "import matplotlib.pyplot as plt\n",
        "\n",
        "# Ensure 'epochs' matches the available data length\n",
        "epochs = range(1, len(train_losses) + 1)\n",
        "\n",
        "# Plot training and testing loss\n",
        "plt.figure(figsize=(14, 7))\n",
        "\n",
        "plt.subplot(1, 2, 1)\n",
        "plt.plot(epochs, train_losses, 'r-o', label='Training Loss')\n",
        "plt.plot(epochs, test_losses, 'b-o', label='Testing Loss')\n",
        "plt.title('Training vs Testing Loss')\n",
        "plt.xlabel('Epochs')\n",
        "plt.ylabel('Loss')\n",
        "plt.legend()\n",
        "\n",
        "# Plot training and testing accuracy\n",
        "plt.subplot(1, 2, 2)\n",
        "plt.plot(epochs, train_accuracies, 'r-o', label='Training Accuracy')\n",
        "plt.plot(epochs, test_accuracies, 'b-o', label='Testing Accuracy')\n",
        "plt.title('Training vs Testing Accuracy')\n",
        "plt.xlabel('Epochs')\n",
        "plt.ylabel('Accuracy (%)')\n",
        "plt.legend()\n",
        "\n",
        "plt.tight_layout()\n",
        "plt.show()\n"
      ]
    },
    {
      "cell_type": "code",
      "execution_count": null,
      "id": "a7a8bbb4-ea9c-4692-8d5c-d3fcce07aa48",
      "metadata": {
        "id": "a7a8bbb4-ea9c-4692-8d5c-d3fcce07aa48"
      },
      "outputs": [],
      "source": []
    }
  ],
  "metadata": {
    "kernelspec": {
      "display_name": "Python (vqa)",
      "language": "python",
      "name": "vqa"
    },
    "language_info": {
      "codemirror_mode": {
        "name": "ipython",
        "version": 3
      },
      "file_extension": ".py",
      "mimetype": "text/x-python",
      "name": "python",
      "nbconvert_exporter": "python",
      "pygments_lexer": "ipython3",
      "version": "3.12.8"
    },
    "colab": {
      "provenance": []
    }
  },
  "nbformat": 4,
  "nbformat_minor": 5
}