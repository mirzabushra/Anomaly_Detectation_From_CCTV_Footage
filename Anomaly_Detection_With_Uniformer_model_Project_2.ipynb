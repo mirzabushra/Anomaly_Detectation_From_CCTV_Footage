{
  "cells": [
    {
      "cell_type": "code",
      "execution_count": null,
      "id": "03748758-cb31-4200-a137-115fe953d2a2",
      "metadata": {
        "id": "03748758-cb31-4200-a137-115fe953d2a2"
      },
      "outputs": [],
      "source": []
    },
    {
      "cell_type": "code",
      "execution_count": null,
      "id": "eda846f4-d56b-40b6-96dd-d70d538470c7",
      "metadata": {
        "id": "eda846f4-d56b-40b6-96dd-d70d538470c7",
        "outputId": "f02a137c-07c8-4fae-f5b4-55af3d608e70"
      },
      "outputs": [
        {
          "name": "stdout",
          "output_type": "stream",
          "text": [
            "Number of training samples: 149\n",
            "Number of testing samples: 54\n"
          ]
        }
      ],
      "source": [
        "import os\n",
        "import torch\n",
        "from torch.utils.data import Dataset, DataLoader\n",
        "import torchvision.transforms as transforms\n",
        "\n",
        "class VideoDataset(Dataset):\n",
        "    def __init__(self, data_dir, class_to_idx, num_frames, transform=None):\n",
        "        self.data = []\n",
        "        self.class_to_idx = class_to_idx\n",
        "        self.num_frames = num_frames\n",
        "        self.transform = transform\n",
        "        self.idx_to_class = {v: k for k, v in class_to_idx.items()}\n",
        "\n",
        "        # Populate data list with video paths and categories\n",
        "        for category in os.listdir(data_dir):\n",
        "            category_path = os.path.join(data_dir, category)\n",
        "            if os.path.isdir(category_path):\n",
        "                for video_file in os.listdir(category_path):\n",
        "                    video_path = os.path.join(category_path, video_file)\n",
        "                    self.data.append((video_path, category))\n",
        "\n",
        "    def __getitem__(self, idx):\n",
        "        video_path, category = self.data[idx]\n",
        "        label = self.class_to_idx[category]\n",
        "\n",
        "        # Dummy implementation for frame loading\n",
        "        frames = torch.randn(self.num_frames, 3, 240, 320)\n",
        "\n",
        "        if self.transform:\n",
        "            frames = self.transform(frames)\n",
        "\n",
        "        return frames, label\n",
        "\n",
        "    def __len__(self):\n",
        "        return len(self.data)\n",
        "\n",
        "# Rest of your code remains the same\n",
        "class_to_idx = {\n",
        "    'Abuse': 0, 'Arrest': 1, 'Assault': 2, 'Fighting': 3,\n",
        "    'Explosion': 4, 'Burglary': 5, 'Arson': 6, 'Normal': 7\n",
        "}\n",
        "\n",
        "num_frames = 16\n",
        "train_dir = 'C:/Users/T2420318/Dataset/output_dataset (1)/train'\n",
        "test_dir = 'C:/Users/T2420318/Dataset/output_dataset (1)/test'\n",
        "\n",
        "train_dataset = VideoDataset(train_dir, class_to_idx, num_frames)\n",
        "test_dataset = VideoDataset(test_dir, class_to_idx, num_frames)\n",
        "\n",
        "train_loader = DataLoader(train_dataset, batch_size=2, shuffle=True)\n",
        "test_loader = DataLoader(test_dataset, batch_size=2, shuffle=False)\n",
        "\n",
        "print(f\"Number of training samples: {len(train_dataset)}\")\n",
        "print(f\"Number of testing samples: {len(test_dataset)}\")"
      ]
    },
    {
      "cell_type": "code",
      "execution_count": null,
      "id": "84598c34-6b01-40c4-9664-3adf4e83472a",
      "metadata": {
        "id": "84598c34-6b01-40c4-9664-3adf4e83472a"
      },
      "outputs": [],
      "source": [
        "# from PIL import Image\n",
        "# import torchvision.transforms as transforms\n",
        "\n",
        "# def load_frame_as_tensor(frame_path):\n",
        "#     # Open an image file\n",
        "#     with Image.open(frame_path) as img:\n",
        "#         # Convert the image to a tensor\n",
        "#         to_tensor = transforms.ToTensor()\n",
        "#         return to_tensor(img)\n"
      ]
    },
    {
      "cell_type": "code",
      "execution_count": null,
      "id": "6072fbb5-9eda-4d78-8fbb-3c695c0a9f3b",
      "metadata": {
        "id": "6072fbb5-9eda-4d78-8fbb-3c695c0a9f3b",
        "outputId": "ab6dc2e2-4b4b-4fb6-e624-5ab23614d25c"
      },
      "outputs": [
        {
          "name": "stdout",
          "output_type": "stream",
          "text": [
            "Added (C:/Users/T2420318/Dataset/output_dataset (1)/train\\Abuse\\Abuse001_x264, Abuse)\n",
            "Added (C:/Users/T2420318/Dataset/output_dataset (1)/train\\Abuse\\Abuse003_x264, Abuse)\n",
            "Added (C:/Users/T2420318/Dataset/output_dataset (1)/train\\Abuse\\Abuse004_x264, Abuse)\n",
            "Added (C:/Users/T2420318/Dataset/output_dataset (1)/train\\Abuse\\Abuse005_x264, Abuse)\n",
            "Added (C:/Users/T2420318/Dataset/output_dataset (1)/train\\Abuse\\Abuse006_x264, Abuse)\n",
            "Added (C:/Users/T2420318/Dataset/output_dataset (1)/train\\Abuse\\Abuse007_x264, Abuse)\n",
            "Added (C:/Users/T2420318/Dataset/output_dataset (1)/train\\Abuse\\Abuse008_x264, Abuse)\n",
            "Added (C:/Users/T2420318/Dataset/output_dataset (1)/train\\Abuse\\Abuse010_x264, Abuse)\n",
            "Added (C:/Users/T2420318/Dataset/output_dataset (1)/train\\Abuse\\Abuse011_x264, Abuse)\n",
            "Added (C:/Users/T2420318/Dataset/output_dataset (1)/train\\Abuse\\Abuse013_x264, Abuse)\n",
            "Added (C:/Users/T2420318/Dataset/output_dataset (1)/train\\Abuse\\Abuse015_x264, Abuse)\n",
            "Added (C:/Users/T2420318/Dataset/output_dataset (1)/train\\Abuse\\Abuse016_x264, Abuse)\n",
            "Added (C:/Users/T2420318/Dataset/output_dataset (1)/train\\Abuse\\Abuse018_x264, Abuse)\n",
            "Added (C:/Users/T2420318/Dataset/output_dataset (1)/train\\Abuse\\Abuse019_x264, Abuse)\n",
            "Added (C:/Users/T2420318/Dataset/output_dataset (1)/train\\Abuse\\Abuse020_x264, Abuse)\n",
            "Added (C:/Users/T2420318/Dataset/output_dataset (1)/train\\Abuse\\Abuse021_x264, Abuse)\n",
            "Added (C:/Users/T2420318/Dataset/output_dataset (1)/train\\Abuse\\Abuse022_x264, Abuse)\n",
            "Added (C:/Users/T2420318/Dataset/output_dataset (1)/train\\Abuse\\Abuse023_x264, Abuse)\n",
            "Added (C:/Users/T2420318/Dataset/output_dataset (1)/train\\Abuse\\Abuse025_x264, Abuse)\n",
            "Added (C:/Users/T2420318/Dataset/output_dataset (1)/train\\Abuse\\Abuse026_x264, Abuse)\n",
            "Added (C:/Users/T2420318/Dataset/output_dataset (1)/train\\Abuse\\Abuse027_x264, Abuse)\n",
            "Added (C:/Users/T2420318/Dataset/output_dataset (1)/train\\Abuse\\Abuse028_x264, Abuse)\n",
            "Added (C:/Users/T2420318/Dataset/output_dataset (1)/train\\Abuse\\Abuse029_x264, Abuse)\n",
            "Added (C:/Users/T2420318/Dataset/output_dataset (1)/train\\Arrest\\Arrest001_x264, Arrest)\n",
            "Added (C:/Users/T2420318/Dataset/output_dataset (1)/train\\Arrest\\Arrest003_x264, Arrest)\n",
            "Added (C:/Users/T2420318/Dataset/output_dataset (1)/train\\Arrest\\Arrest004_x264, Arrest)\n",
            "Added (C:/Users/T2420318/Dataset/output_dataset (1)/train\\Arrest\\Arrest005_x264, Arrest)\n",
            "Added (C:/Users/T2420318/Dataset/output_dataset (1)/train\\Arrest\\Arrest006_x264, Arrest)\n",
            "Added (C:/Users/T2420318/Dataset/output_dataset (1)/train\\Arrest\\Arrest008_x264, Arrest)\n",
            "Added (C:/Users/T2420318/Dataset/output_dataset (1)/train\\Arrest\\Arrest010_x264, Arrest)\n",
            "Added (C:/Users/T2420318/Dataset/output_dataset (1)/train\\Arrest\\Arrest014_x264, Arrest)\n",
            "Added (C:/Users/T2420318/Dataset/output_dataset (1)/train\\Arrest\\Arrest015_x264, Arrest)\n",
            "Added (C:/Users/T2420318/Dataset/output_dataset (1)/train\\Arrest\\Arrest017_x264, Arrest)\n",
            "Added (C:/Users/T2420318/Dataset/output_dataset (1)/train\\Arrest\\Arrest018_x264, Arrest)\n",
            "Added (C:/Users/T2420318/Dataset/output_dataset (1)/train\\Arrest\\Arrest020_x264, Arrest)\n",
            "Added (C:/Users/T2420318/Dataset/output_dataset (1)/train\\Arrest\\Arrest022_x264, Arrest)\n",
            "Added (C:/Users/T2420318/Dataset/output_dataset (1)/train\\Arrest\\Arrest023_x264, Arrest)\n",
            "Added (C:/Users/T2420318/Dataset/output_dataset (1)/train\\Arrest\\Arrest024_x264, Arrest)\n",
            "Added (C:/Users/T2420318/Dataset/output_dataset (1)/train\\Arrest\\Arrest025_x264, Arrest)\n",
            "Added (C:/Users/T2420318/Dataset/output_dataset (1)/train\\Arrest\\Arrest026_x264, Arrest)\n",
            "Added (C:/Users/T2420318/Dataset/output_dataset (1)/train\\Arson\\Arson001_x264, Arson)\n",
            "Added (C:/Users/T2420318/Dataset/output_dataset (1)/train\\Arson\\Arson003_x264, Arson)\n",
            "Added (C:/Users/T2420318/Dataset/output_dataset (1)/train\\Arson\\Arson005_x264, Arson)\n",
            "Added (C:/Users/T2420318/Dataset/output_dataset (1)/train\\Arson\\Arson006_x264, Arson)\n",
            "Added (C:/Users/T2420318/Dataset/output_dataset (1)/train\\Arson\\Arson009_x264, Arson)\n",
            "Added (C:/Users/T2420318/Dataset/output_dataset (1)/train\\Arson\\Arson010_x264, Arson)\n",
            "Added (C:/Users/T2420318/Dataset/output_dataset (1)/train\\Assault\\Assault001_x264, Assault)\n",
            "Added (C:/Users/T2420318/Dataset/output_dataset (1)/train\\Assault\\Assault003_x264, Assault)\n",
            "Added (C:/Users/T2420318/Dataset/output_dataset (1)/train\\Assault\\Assault004_x264, Assault)\n",
            "Added (C:/Users/T2420318/Dataset/output_dataset (1)/train\\Assault\\Assault005_x264, Assault)\n",
            "Added (C:/Users/T2420318/Dataset/output_dataset (1)/train\\Assault\\Assault006_x264, Assault)\n",
            "Added (C:/Users/T2420318/Dataset/output_dataset (1)/train\\Assault\\Assault007_x264, Assault)\n",
            "Added (C:/Users/T2420318/Dataset/output_dataset (1)/train\\Assault\\Assault008_x264, Assault)\n",
            "Added (C:/Users/T2420318/Dataset/output_dataset (1)/train\\Assault\\Assault010_x264, Assault)\n",
            "Added (C:/Users/T2420318/Dataset/output_dataset (1)/train\\Assault\\Assault011_x264, Assault)\n",
            "Added (C:/Users/T2420318/Dataset/output_dataset (1)/train\\Assault\\Assault013_x264, Assault)\n",
            "Added (C:/Users/T2420318/Dataset/output_dataset (1)/train\\Assault\\Assault015_x264, Assault)\n",
            "Added (C:/Users/T2420318/Dataset/output_dataset (1)/train\\Assault\\Assault016_x264, Assault)\n",
            "Added (C:/Users/T2420318/Dataset/output_dataset (1)/train\\Assault\\Assault018_x264, Assault)\n",
            "Added (C:/Users/T2420318/Dataset/output_dataset (1)/train\\Assault\\Assault020_x264, Assault)\n",
            "Added (C:/Users/T2420318/Dataset/output_dataset (1)/train\\Assault\\Assault022_x264, Assault)\n",
            "Added (C:/Users/T2420318/Dataset/output_dataset (1)/train\\Assault\\Assault023_x264, Assault)\n",
            "Added (C:/Users/T2420318/Dataset/output_dataset (1)/train\\Assault\\Assault024_x264, Assault)\n",
            "Added (C:/Users/T2420318/Dataset/output_dataset (1)/train\\Assault\\Assault025_x264, Assault)\n",
            "Added (C:/Users/T2420318/Dataset/output_dataset (1)/train\\Assault\\Assault031_x264, Assault)\n",
            "Added (C:/Users/T2420318/Dataset/output_dataset (1)/train\\Burglary\\Burglary001_x264, Burglary)\n",
            "Added (C:/Users/T2420318/Dataset/output_dataset (1)/train\\Burglary\\Burglary003_x264, Burglary)\n",
            "Added (C:/Users/T2420318/Dataset/output_dataset (1)/train\\Burglary\\Burglary004_x264, Burglary)\n",
            "Added (C:/Users/T2420318/Dataset/output_dataset (1)/train\\Burglary\\Burglary005_x264, Burglary)\n",
            "Added (C:/Users/T2420318/Dataset/output_dataset (1)/train\\Burglary\\Burglary006_x264, Burglary)\n",
            "Added (C:/Users/T2420318/Dataset/output_dataset (1)/train\\Burglary\\Burglary007_x264, Burglary)\n",
            "Added (C:/Users/T2420318/Dataset/output_dataset (1)/train\\Burglary\\Burglary008_x264, Burglary)\n",
            "Added (C:/Users/T2420318/Dataset/output_dataset (1)/train\\Burglary\\Burglary010_x264, Burglary)\n",
            "Added (C:/Users/T2420318/Dataset/output_dataset (1)/train\\Explosion\\Explosion001_x264, Explosion)\n",
            "Added (C:/Users/T2420318/Dataset/output_dataset (1)/train\\Explosion\\Explosion003_x264, Explosion)\n",
            "Added (C:/Users/T2420318/Dataset/output_dataset (1)/train\\Explosion\\Explosion004_x264, Explosion)\n",
            "Added (C:/Users/T2420318/Dataset/output_dataset (1)/train\\Explosion\\Explosion005_x264, Explosion)\n",
            "Added (C:/Users/T2420318/Dataset/output_dataset (1)/train\\Explosion\\Explosion006_x264, Explosion)\n",
            "Added (C:/Users/T2420318/Dataset/output_dataset (1)/train\\Explosion\\Explosion007_x264, Explosion)\n",
            "Added (C:/Users/T2420318/Dataset/output_dataset (1)/train\\Explosion\\Explosion008_x264, Explosion)\n",
            "Added (C:/Users/T2420318/Dataset/output_dataset (1)/train\\Explosion\\Explosion010_x264, Explosion)\n",
            "Added (C:/Users/T2420318/Dataset/output_dataset (1)/train\\Explosion\\Explosion011_x264, Explosion)\n",
            "Added (C:/Users/T2420318/Dataset/output_dataset (1)/train\\Explosion\\Explosion013_x264, Explosion)\n",
            "Added (C:/Users/T2420318/Dataset/output_dataset (1)/train\\Explosion\\Explosion015_x264, Explosion)\n",
            "Added (C:/Users/T2420318/Dataset/output_dataset (1)/train\\Explosion\\Explosion016_x264, Explosion)\n",
            "Added (C:/Users/T2420318/Dataset/output_dataset (1)/train\\Explosion\\Explosion018_x264, Explosion)\n",
            "Added (C:/Users/T2420318/Dataset/output_dataset (1)/train\\Explosion\\Explosion019_x264, Explosion)\n",
            "Added (C:/Users/T2420318/Dataset/output_dataset (1)/train\\Explosion\\Explosion020_x264, Explosion)\n",
            "Added (C:/Users/T2420318/Dataset/output_dataset (1)/train\\Explosion\\Explosion021_x264, Explosion)\n",
            "Added (C:/Users/T2420318/Dataset/output_dataset (1)/train\\Explosion\\Explosion022_x264, Explosion)\n",
            "Added (C:/Users/T2420318/Dataset/output_dataset (1)/train\\Explosion\\Explosion023_x264, Explosion)\n",
            "Added (C:/Users/T2420318/Dataset/output_dataset (1)/train\\Explosion\\Explosion025_x264, Explosion)\n",
            "Added (C:/Users/T2420318/Dataset/output_dataset (1)/train\\Fighting\\Fighting002_x264, Fighting)\n",
            "Added (C:/Users/T2420318/Dataset/output_dataset (1)/train\\Fighting\\Fighting004_x264, Fighting)\n",
            "Added (C:/Users/T2420318/Dataset/output_dataset (1)/train\\Fighting\\Fighting005_x264, Fighting)\n",
            "Added (C:/Users/T2420318/Dataset/output_dataset (1)/train\\Fighting\\Fighting006_x264, Fighting)\n",
            "Added (C:/Users/T2420318/Dataset/output_dataset (1)/train\\Fighting\\Fighting007_x264, Fighting)\n",
            "Added (C:/Users/T2420318/Dataset/output_dataset (1)/train\\Fighting\\Fighting008_x264, Fighting)\n",
            "Added (C:/Users/T2420318/Dataset/output_dataset (1)/train\\Fighting\\Fighting010_x264, Fighting)\n",
            "Added (C:/Users/T2420318/Dataset/output_dataset (1)/train\\Fighting\\Fighting012_x264, Fighting)\n",
            "Added (C:/Users/T2420318/Dataset/output_dataset (1)/train\\Fighting\\Fighting014_x264, Fighting)\n",
            "Added (C:/Users/T2420318/Dataset/output_dataset (1)/train\\Fighting\\Fighting016_x264, Fighting)\n",
            "Added (C:/Users/T2420318/Dataset/output_dataset (1)/train\\Fighting\\Fighting017_x264, Fighting)\n",
            "Added (C:/Users/T2420318/Dataset/output_dataset (1)/train\\Fighting\\Fighting019_x264, Fighting)\n",
            "Added (C:/Users/T2420318/Dataset/output_dataset (1)/train\\Fighting\\Fighting021_x264, Fighting)\n",
            "Added (C:/Users/T2420318/Dataset/output_dataset (1)/train\\Fighting\\Fighting022_x264, Fighting)\n",
            "Added (C:/Users/T2420318/Dataset/output_dataset (1)/train\\Fighting\\Fighting023_x264, Fighting)\n",
            "Added (C:/Users/T2420318/Dataset/output_dataset (1)/train\\Fighting\\Fighting024_x264, Fighting)\n",
            "Added (C:/Users/T2420318/Dataset/output_dataset (1)/train\\Fighting\\Fighting025_x264, Fighting)\n",
            "Added (C:/Users/T2420318/Dataset/output_dataset (1)/train\\Normal\\Normal_Videos_015_x264, Normal)\n",
            "Added (C:/Users/T2420318/Dataset/output_dataset (1)/train\\Normal\\Normal_Videos_050_x264, Normal)\n",
            "Added (C:/Users/T2420318/Dataset/output_dataset (1)/train\\Normal\\Normal_Videos_100_x264, Normal)\n",
            "Added (C:/Users/T2420318/Dataset/output_dataset (1)/train\\Normal\\Normal_Videos_129_x264, Normal)\n",
            "Added (C:/Users/T2420318/Dataset/output_dataset (1)/train\\Normal\\Normal_Videos_150_x264, Normal)\n",
            "Added (C:/Users/T2420318/Dataset/output_dataset (1)/train\\Normal\\Normal_Videos_246_x264, Normal)\n",
            "Added (C:/Users/T2420318/Dataset/output_dataset (1)/train\\Normal\\Normal_Videos_247_x264, Normal)\n",
            "Added (C:/Users/T2420318/Dataset/output_dataset (1)/train\\Normal\\Normal_Videos_248_x264, Normal)\n",
            "Added (C:/Users/T2420318/Dataset/output_dataset (1)/train\\Normal\\Normal_Videos_251_x264, Normal)\n",
            "Added (C:/Users/T2420318/Dataset/output_dataset (1)/train\\Normal\\Normal_Videos_289_x264, Normal)\n",
            "Added (C:/Users/T2420318/Dataset/output_dataset (1)/train\\Normal\\Normal_Videos_310_x264, Normal)\n",
            "Added (C:/Users/T2420318/Dataset/output_dataset (1)/train\\Normal\\Normal_Videos_312_x264, Normal)\n",
            "Added (C:/Users/T2420318/Dataset/output_dataset (1)/train\\Normal\\Normal_Videos_317_x264, Normal)\n",
            "Added (C:/Users/T2420318/Dataset/output_dataset (1)/train\\Normal\\Normal_Videos_352_x264, Normal)\n",
            "Added (C:/Users/T2420318/Dataset/output_dataset (1)/train\\Normal\\Normal_Videos_360_x264, Normal)\n",
            "Added (C:/Users/T2420318/Dataset/output_dataset (1)/train\\Normal\\Normal_Videos_365_x264, Normal)\n",
            "Added (C:/Users/T2420318/Dataset/output_dataset (1)/train\\Normal\\Normal_Videos_417_x264, Normal)\n",
            "Added (C:/Users/T2420318/Dataset/output_dataset (1)/train\\Normal\\Normal_Videos_452_x264, Normal)\n",
            "Added (C:/Users/T2420318/Dataset/output_dataset (1)/train\\Normal\\Normal_Videos_453_x264, Normal)\n",
            "Added (C:/Users/T2420318/Dataset/output_dataset (1)/train\\Normal\\Normal_Videos_478_x264, Normal)\n",
            "Added (C:/Users/T2420318/Dataset/output_dataset (1)/train\\Normal\\Normal_Videos_576_x264, Normal)\n",
            "Added (C:/Users/T2420318/Dataset/output_dataset (1)/train\\Normal\\Normal_Videos_597_x264, Normal)\n",
            "Added (C:/Users/T2420318/Dataset/output_dataset (1)/train\\Normal\\Normal_Videos_621_x264, Normal)\n",
            "Added (C:/Users/T2420318/Dataset/output_dataset (1)/train\\Normal\\Normal_Videos_634_x264, Normal)\n",
            "Added (C:/Users/T2420318/Dataset/output_dataset (1)/train\\Normal\\Normal_Videos_641_x264, Normal)\n",
            "Added (C:/Users/T2420318/Dataset/output_dataset (1)/train\\Normal\\Normal_Videos_696_x264, Normal)\n",
            "Added (C:/Users/T2420318/Dataset/output_dataset (1)/train\\Normal\\Normal_Videos_722_x264, Normal)\n",
            "Added (C:/Users/T2420318/Dataset/output_dataset (1)/train\\Normal\\Normal_Videos_745_x264, Normal)\n",
            "Added (C:/Users/T2420318/Dataset/output_dataset (1)/train\\Normal\\Normal_Videos_758_x264, Normal)\n",
            "Added (C:/Users/T2420318/Dataset/output_dataset (1)/train\\Normal\\Normal_Videos_781_x264, Normal)\n",
            "Added (C:/Users/T2420318/Dataset/output_dataset (1)/train\\Normal\\Normal_Videos_798_x264, Normal)\n",
            "Added (C:/Users/T2420318/Dataset/output_dataset (1)/train\\Normal\\Normal_Videos_801_x264, Normal)\n",
            "Added (C:/Users/T2420318/Dataset/output_dataset (1)/train\\Normal\\Normal_Videos_831_x264, Normal)\n",
            "Added (C:/Users/T2420318/Dataset/output_dataset (1)/train\\Normal\\Normal_Videos_877_x264, Normal)\n",
            "Added (C:/Users/T2420318/Dataset/output_dataset (1)/train\\Normal\\Normal_Videos_881_x264, Normal)\n",
            "Added (C:/Users/T2420318/Dataset/output_dataset (1)/train\\Normal\\Normal_Videos_885_x264, Normal)\n",
            "Added (C:/Users/T2420318/Dataset/output_dataset (1)/train\\Normal\\Normal_Videos_892_x264, Normal)\n",
            "Added (C:/Users/T2420318/Dataset/output_dataset (1)/train\\Normal\\Normal_Videos_912_x264, Normal)\n",
            "Added (C:/Users/T2420318/Dataset/output_dataset (1)/train\\Normal\\Normal_Videos_913_x264, Normal)\n",
            "Added (C:/Users/T2420318/Dataset/output_dataset (1)/train\\Normal\\Normal_Videos_929_x264, Normal)\n",
            "Added (C:/Users/T2420318/Dataset/output_dataset (1)/test\\Abuse\\Abuse002_x264, Abuse)\n",
            "Added (C:/Users/T2420318/Dataset/output_dataset (1)/test\\Abuse\\Abuse009_x264, Abuse)\n",
            "Added (C:/Users/T2420318/Dataset/output_dataset (1)/test\\Abuse\\Abuse010_x264, Abuse)\n",
            "Added (C:/Users/T2420318/Dataset/output_dataset (1)/test\\Abuse\\Abuse012_x264, Abuse)\n",
            "Added (C:/Users/T2420318/Dataset/output_dataset (1)/test\\Abuse\\Abuse014_x264, Abuse)\n",
            "Added (C:/Users/T2420318/Dataset/output_dataset (1)/test\\Abuse\\Abuse017_x264, Abuse)\n",
            "Added (C:/Users/T2420318/Dataset/output_dataset (1)/test\\Abuse\\Abuse024_x264, Abuse)\n",
            "Added (C:/Users/T2420318/Dataset/output_dataset (1)/test\\Arrest\\Arrest002_x264, Arrest)\n",
            "Added (C:/Users/T2420318/Dataset/output_dataset (1)/test\\Arrest\\Arrest009_x264, Arrest)\n",
            "Added (C:/Users/T2420318/Dataset/output_dataset (1)/test\\Arrest\\Arrest010_x264, Arrest)\n",
            "Added (C:/Users/T2420318/Dataset/output_dataset (1)/test\\Arrest\\Arrest013_x264, Arrest)\n",
            "Added (C:/Users/T2420318/Dataset/output_dataset (1)/test\\Arrest\\Arrest016_x264, Arrest)\n",
            "Added (C:/Users/T2420318/Dataset/output_dataset (1)/test\\Arrest\\Arrest019_x264, Arrest)\n",
            "Added (C:/Users/T2420318/Dataset/output_dataset (1)/test\\Arrest\\Arrest021_x264, Arrest)\n",
            "Added (C:/Users/T2420318/Dataset/output_dataset (1)/test\\Arson\\Arson002_x264, Arson)\n",
            "Added (C:/Users/T2420318/Dataset/output_dataset (1)/test\\Arson\\Arson008_x264, Arson)\n",
            "Added (C:/Users/T2420318/Dataset/output_dataset (1)/test\\Assault\\Assault002_x264, Assault)\n",
            "Added (C:/Users/T2420318/Dataset/output_dataset (1)/test\\Assault\\Assault009_x264, Assault)\n",
            "Added (C:/Users/T2420318/Dataset/output_dataset (1)/test\\Assault\\Assault010_x264, Assault)\n",
            "Added (C:/Users/T2420318/Dataset/output_dataset (1)/test\\Assault\\Assault012_x264, Assault)\n",
            "Added (C:/Users/T2420318/Dataset/output_dataset (1)/test\\Assault\\Assault014_x264, Assault)\n",
            "Added (C:/Users/T2420318/Dataset/output_dataset (1)/test\\Assault\\Assault017_x264, Assault)\n",
            "Added (C:/Users/T2420318/Dataset/output_dataset (1)/test\\Assault\\Assault019_x264, Assault)\n",
            "Added (C:/Users/T2420318/Dataset/output_dataset (1)/test\\Burglary\\Burglary002_x264, Burglary)\n",
            "Added (C:/Users/T2420318/Dataset/output_dataset (1)/test\\Burglary\\Burglary009_x264, Burglary)\n",
            "Added (C:/Users/T2420318/Dataset/output_dataset (1)/test\\Explosion\\Explosion002_x264, Explosion)\n",
            "Added (C:/Users/T2420318/Dataset/output_dataset (1)/test\\Explosion\\Explosion009_x264, Explosion)\n",
            "Added (C:/Users/T2420318/Dataset/output_dataset (1)/test\\Explosion\\Explosion010_x264, Explosion)\n",
            "Added (C:/Users/T2420318/Dataset/output_dataset (1)/test\\Explosion\\Explosion012_x264, Explosion)\n",
            "Added (C:/Users/T2420318/Dataset/output_dataset (1)/test\\Explosion\\Explosion014_x264, Explosion)\n",
            "Added (C:/Users/T2420318/Dataset/output_dataset (1)/test\\Explosion\\Explosion017_x264, Explosion)\n",
            "Added (C:/Users/T2420318/Dataset/output_dataset (1)/test\\Explosion\\Explosion024_x264, Explosion)\n",
            "Added (C:/Users/T2420318/Dataset/output_dataset (1)/test\\Fighting\\Fighting003_x264, Fighting)\n",
            "Added (C:/Users/T2420318/Dataset/output_dataset (1)/test\\Fighting\\Fighting009_x264, Fighting)\n",
            "Added (C:/Users/T2420318/Dataset/output_dataset (1)/test\\Fighting\\Fighting010_x264, Fighting)\n",
            "Added (C:/Users/T2420318/Dataset/output_dataset (1)/test\\Fighting\\Fighting011_x264, Fighting)\n",
            "Added (C:/Users/T2420318/Dataset/output_dataset (1)/test\\Fighting\\Fighting013_x264, Fighting)\n",
            "Added (C:/Users/T2420318/Dataset/output_dataset (1)/test\\Fighting\\Fighting015_x264, Fighting)\n",
            "Added (C:/Users/T2420318/Dataset/output_dataset (1)/test\\Fighting\\Fighting018_x264, Fighting)\n",
            "Added (C:/Users/T2420318/Dataset/output_dataset (1)/test\\Fighting\\Fighting020_x264, Fighting)\n",
            "Added (C:/Users/T2420318/Dataset/output_dataset (1)/test\\Normal\\Normal_Videos017_x264, Normal)\n",
            "Added (C:/Users/T2420318/Dataset/output_dataset (1)/test\\Normal\\Normal_Videos021_x264, Normal)\n",
            "Added (C:/Users/T2420318/Dataset/output_dataset (1)/test\\Normal\\Normal_Videos026_x264, Normal)\n",
            "Added (C:/Users/T2420318/Dataset/output_dataset (1)/test\\Normal\\Normal_Videos038_x264, Normal)\n",
            "Added (C:/Users/T2420318/Dataset/output_dataset (1)/test\\Normal\\Normal_Videos_345_x264, Normal)\n",
            "Added (C:/Users/T2420318/Dataset/output_dataset (1)/test\\Normal\\Normal_Videos_401_x264, Normal)\n",
            "Added (C:/Users/T2420318/Dataset/output_dataset (1)/test\\Normal\\Normal_Videos_439_x264, Normal)\n",
            "Added (C:/Users/T2420318/Dataset/output_dataset (1)/test\\Normal\\Normal_Videos_603_x264, Normal)\n",
            "Added (C:/Users/T2420318/Dataset/output_dataset (1)/test\\Normal\\Normal_Videos_606_x264, Normal)\n",
            "Added (C:/Users/T2420318/Dataset/output_dataset (1)/test\\Normal\\Normal_Videos_656_x264, Normal)\n",
            "Added (C:/Users/T2420318/Dataset/output_dataset (1)/test\\Normal\\Normal_Videos_704_x264, Normal)\n",
            "Added (C:/Users/T2420318/Dataset/output_dataset (1)/test\\Normal\\Normal_Videos_828_x264, Normal)\n",
            "Added (C:/Users/T2420318/Dataset/output_dataset (1)/test\\Normal\\Normal_Videos_905_x264, Normal)\n",
            "Added (C:/Users/T2420318/Dataset/output_dataset (1)/test\\Normal\\Normal_Videos_914_x264, Normal)\n",
            "Sample training data: [('C:/Users/T2420318/Dataset/output_dataset (1)/train\\\\Abuse\\\\Abuse001_x264', 'Abuse'), ('C:/Users/T2420318/Dataset/output_dataset (1)/train\\\\Abuse\\\\Abuse003_x264', 'Abuse'), ('C:/Users/T2420318/Dataset/output_dataset (1)/train\\\\Abuse\\\\Abuse004_x264', 'Abuse'), ('C:/Users/T2420318/Dataset/output_dataset (1)/train\\\\Abuse\\\\Abuse005_x264', 'Abuse'), ('C:/Users/T2420318/Dataset/output_dataset (1)/train\\\\Abuse\\\\Abuse006_x264', 'Abuse')]\n",
            "Sample testing data: [('C:/Users/T2420318/Dataset/output_dataset (1)/test\\\\Abuse\\\\Abuse002_x264', 'Abuse'), ('C:/Users/T2420318/Dataset/output_dataset (1)/test\\\\Abuse\\\\Abuse009_x264', 'Abuse'), ('C:/Users/T2420318/Dataset/output_dataset (1)/test\\\\Abuse\\\\Abuse010_x264', 'Abuse'), ('C:/Users/T2420318/Dataset/output_dataset (1)/test\\\\Abuse\\\\Abuse012_x264', 'Abuse'), ('C:/Users/T2420318/Dataset/output_dataset (1)/test\\\\Abuse\\\\Abuse014_x264', 'Abuse')]\n"
          ]
        }
      ],
      "source": [
        "import os\n",
        "def load_dataset(directory):\n",
        "    data = []\n",
        "    for category in os.listdir(directory):\n",
        "        class_path = os.path.join(directory, category)\n",
        "        for video_folder in os.listdir(class_path):\n",
        "            video_path = os.path.join(class_path, video_folder)\n",
        "            data.append((video_path, category))  # Make sure this tuple is being created\n",
        "            print(f\"Added ({video_path}, {category})\")  # Debug print\n",
        "    return data\n",
        "train_data = load_dataset('C:/Users/T2420318/Dataset/output_dataset (1)/train')\n",
        "test_data = load_dataset('C:/Users/T2420318/Dataset/output_dataset (1)/test')\n",
        "\n",
        "# Print some sample data to verify\n",
        "print(\"Sample training data:\", train_data[:5])\n",
        "print(\"Sample testing data:\", test_data[:5])\n"
      ]
    },
    {
      "cell_type": "code",
      "execution_count": null,
      "id": "762e92f9-42d3-43d5-bb54-4327c4867cc0",
      "metadata": {
        "id": "762e92f9-42d3-43d5-bb54-4327c4867cc0"
      },
      "outputs": [],
      "source": []
    },
    {
      "cell_type": "code",
      "execution_count": null,
      "id": "516eee65-41f6-49ee-921c-9090f72458b3",
      "metadata": {
        "id": "516eee65-41f6-49ee-921c-9090f72458b3",
        "outputId": "695d2b02-82a0-465a-86b4-ccd2d2aa7181"
      },
      "outputs": [
        {
          "name": "stdout",
          "output_type": "stream",
          "text": [
            "\n",
            "First training sample:\n",
            " - Frames shape: torch.Size([16, 3, 240, 320])\n",
            " - Label: 0 (Abuse)\n"
          ]
        }
      ],
      "source": [
        "# Test the first item in the train dataset\n",
        "try:\n",
        "    first_train_sample = train_dataset[0]\n",
        "    frames, label = first_train_sample\n",
        "    print(\"\\nFirst training sample:\")\n",
        "    print(f\" - Frames shape: {frames.shape}\")\n",
        "    print(f\" - Label: {label} ({train_dataset.idx_to_class[label]})\")\n",
        "except Exception as e:\n",
        "    print(f\"An error occurred: {e}\")\n"
      ]
    },
    {
      "cell_type": "code",
      "execution_count": null,
      "id": "736c7aa3-cbdc-4045-8a50-34d6f388d19e",
      "metadata": {
        "id": "736c7aa3-cbdc-4045-8a50-34d6f388d19e",
        "outputId": "ffb64aa3-ef8c-42bb-fb5c-7acb7777422d"
      },
      "outputs": [
        {
          "name": "stdout",
          "output_type": "stream",
          "text": [
            "Number of training samples: 149\n",
            "Number of testing samples: 54\n",
            "\n",
            "First training sample:\n",
            " - Frames shape: torch.Size([16, 3, 240, 320])\n",
            " - Label: 0 (Abuse)\n",
            "\n",
            "Batch from DataLoader:\n",
            " - Batch frames shape: torch.Size([2, 16, 3, 240, 320])\n",
            " - Batch targets: tensor([4, 4])\n"
          ]
        }
      ],
      "source": [
        "# Print the dataset size\n",
        "import torch\n",
        "print(f\"Number of training samples: {len(train_dataset)}\")\n",
        "print(f\"Number of testing samples: {len(test_dataset)}\")\n",
        "\n",
        "# Test the first item in the train dataset\n",
        "first_train_sample = train_dataset[0]  # Access the first sample\n",
        "frames, label = first_train_sample\n",
        "\n",
        "print(\"\\nFirst training sample:\")\n",
        "print(f\" - Frames shape: {frames.shape}\")  # Should be [num_frames, channels, height, width]\n",
        "print(f\" - Label: {label} ({train_dataset.idx_to_class[label]})\")  # Print label and its corresponding class\n",
        "\n",
        "# Check the DataLoader\n",
        "for i, (data, targets) in enumerate(train_loader):\n",
        "    print(\"\\nBatch from DataLoader:\")\n",
        "    print(f\" - Batch frames shape: {data.shape}\")  # [batch_size, num_frames, channels, height, width]\n",
        "    print(f\" - Batch targets: {targets}\")\n",
        "    break  # Print only the first batch\n"
      ]
    },
    {
      "cell_type": "code",
      "execution_count": null,
      "id": "bfa5851e-ea3d-42b5-9060-53290f96424c",
      "metadata": {
        "id": "bfa5851e-ea3d-42b5-9060-53290f96424c",
        "outputId": "895d3c7f-cf6e-459c-cb14-7de66c26ed77"
      },
      "outputs": [
        {
          "name": "stdout",
          "output_type": "stream",
          "text": [
            "Model loaded successfully!\n",
            "Model architecture: Uniformer\n",
            "UniFormer model built successfully!\n",
            "Model moved to cuda successfully!\n"
          ]
        }
      ],
      "source": [
        "import torch\n",
        "from torch.utils.data import DataLoader\n",
        "from torchvision.transforms import Compose, Resize, Normalize\n",
        "\n",
        "# Define Dataset and DataLoader\n",
        "from torchvision import transforms\n",
        "\n",
        "transform = transforms.Compose([\n",
        "    transforms.ToTensor(),  # Converts to float and scales to [0, 1]\n",
        "    transforms.Normalize(mean=[0.485, 0.456, 0.406], std=[0.229, 0.224, 0.225])  # Example mean and std\n",
        "])\n",
        "\n",
        "num_frames = 16\n",
        "train_dir = 'C:/Users/T2420318/Dataset/output_dataset (1)/train'\n",
        "test_dir = 'C:/Users/T2420318/Dataset/output_dataset (1)/test'\n",
        "\n",
        "train_dataset = VideoDataset(train_dir, class_to_idx, num_frames)\n",
        "test_dataset = VideoDataset(test_dir, class_to_idx, num_frames)\n",
        "from torch.utils.data import DataLoader\n",
        "\n",
        "# Assuming you have a Dataset object called `dataset`\n",
        "train_loader = DataLoader(train_dataset, batch_size=64)\n",
        "\n",
        "test_loader = DataLoader(test_dataset, batch_size=2, shuffle=False)\n",
        "\n",
        "# Load Model\n",
        "from slowfast.models.build import MODEL_REGISTRY\n",
        "from slowfast.models.build import MODEL_REGISTRY\n",
        "from slowfast.config.defaults import get_cfg\n",
        "\n",
        "# Load the configuration\n",
        "cfg = get_cfg()\n",
        "cfg.MODEL.ARCH = \"Uniformer\"\n",
        "\n",
        "# Build the model\n",
        "model = MODEL_REGISTRY.get(cfg.MODEL.ARCH)(cfg)\n",
        "print(\"Model loaded successfully!\")\n",
        "\n",
        "# Build the model using the loaded configuration\n",
        "from slowfast.models.build import MODEL_REGISTRY\n",
        "\n",
        "model = MODEL_REGISTRY.get(cfg.MODEL.ARCH)(cfg)\n",
        "print(f\"Model architecture: {cfg.MODEL.ARCH}\")  # Confirm model registration\n",
        "\n",
        "\n",
        "print(\"UniFormer model built successfully!\")\n",
        "\n",
        "device = torch.device(\"cuda\" if torch.cuda.is_available() else \"cpu\")\n",
        "model = model.to(device)\n",
        "\n",
        "print(f\"Model moved to {device} successfully!\")\n",
        "\n",
        "\n"
      ]
    },
    {
      "cell_type": "code",
      "execution_count": null,
      "id": "d8f67a85-a62c-4c14-884d-0759da40b20c",
      "metadata": {
        "id": "d8f67a85-a62c-4c14-884d-0759da40b20c"
      },
      "outputs": [],
      "source": [
        "import os\n",
        "os.environ[\"PYTORCH_CUDA_ALLOC_CONF\"] = \"expandable_segments:True\"\n",
        "import torch\n",
        "from torch.utils.data import Dataset, DataLoader\n",
        "import torchvision.transforms as transforms\n",
        "from torchvision.io import read_image\n",
        "from torchvision.transforms.functional import to_pil_image, to_tensor\n",
        "\n",
        "class VideoDataset(Dataset):\n",
        "    def __init__(self, data, class_to_idx, num_frames=16, transform=None):\n",
        "        self.data = data\n",
        "        self.class_to_idx = class_to_idx\n",
        "        self.num_frames = num_frames\n",
        "        self.transform = transform\n",
        "        self.idx_to_class = {v: k for k, v in class_to_idx.items()}\n",
        "\n",
        "    def __getitem__(self, idx):\n",
        "        video_path, category = self.data[idx]\n",
        "        label = self.class_to_idx[category]\n",
        "\n",
        "        # Load and process frames\n",
        "        frames = []\n",
        "        frame_files = sorted([f for f in os.listdir(video_path) if f.endswith('.jpg')])\n",
        "        frame_indices = torch.linspace(0, len(frame_files) - 1, self.num_frames).long()\n",
        "\n",
        "        for i in frame_indices:\n",
        "            frame_path = os.path.join(video_path, frame_files[i])\n",
        "            frame = read_image(frame_path).float() / 255.0\n",
        "            if frame.size(0) == 1:\n",
        "                frame = frame.repeat(3, 1, 1)  # Convert grayscale to RGB\n",
        "            frame = transforms.Resize((240, 320))(frame)\n",
        "            frames.append(frame)\n",
        "\n",
        "        frames = torch.stack(frames).permute(1, 0, 2, 3)  # [channels, frames, height, width]\n",
        "        if self.transform:\n",
        "            frames = self.transform(frames)\n",
        "        return frames, label\n",
        "\n",
        "    def __len__(self):\n",
        "        return len(self.data)\n",
        "\n",
        "# Your class mapping\n",
        "class_to_idx = {'Abuse': 0, 'Arrest': 1, 'Assault': 2, 'Fighting': 3,\n",
        "                'Explosion': 4, 'Burglary': 5, 'Arson': 6, 'Normal': 7}\n",
        "\n",
        "# Load datasets\n",
        "train_dir = 'C:/Users/T2420318/Dataset/output_dataset (1)/train'\n",
        "test_dir = 'C:/Users/T2420318/Dataset/output_dataset (1)/test'\n",
        "\n",
        "def load_dataset(directory):\n",
        "    data = []\n",
        "    for category in os.listdir(directory):\n",
        "        class_path = os.path.join(directory, category)\n",
        "        for video_folder in os.listdir(class_path):\n",
        "            video_path = os.path.join(class_path, video_folder)\n",
        "            data.append((video_path, category))\n",
        "    return data\n",
        "\n",
        "train_data = load_dataset(train_dir)\n",
        "test_data = load_dataset(test_dir)\n",
        "\n",
        "# Create datasets and loaders\n",
        "train_dataset = VideoDataset(train_data, class_to_idx)\n",
        "test_dataset = VideoDataset(test_data, class_to_idx)\n",
        "\n",
        "train_loader = DataLoader(train_dataset, batch_size=8, shuffle=True)\n",
        "test_loader = DataLoader(test_dataset, batch_size=8, shuffle=False)"
      ]
    },
    {
      "cell_type": "code",
      "execution_count": null,
      "id": "3f1ca899-4f18-4155-828e-6dccae68a798",
      "metadata": {
        "id": "3f1ca899-4f18-4155-828e-6dccae68a798"
      },
      "outputs": [],
      "source": [
        "# dummy_data = torch.randn(2, 3, 16, 240, 320).to(device)  # Match input shape\n",
        "# print(\"Passing dummy data through the model...\")\n",
        "# output = model(dummy_data)\n",
        "# print(f\"Output shape: {output.shape}\")\n"
      ]
    },
    {
      "cell_type": "code",
      "execution_count": null,
      "id": "c3d7eb43-424e-4515-b4ee-41643149bafa",
      "metadata": {
        "id": "c3d7eb43-424e-4515-b4ee-41643149bafa"
      },
      "outputs": [],
      "source": [
        "# print(f\"Dummy data shape before passing to model: {dummy_data.shape}\")\n",
        "# output = model(dummy_data)\n"
      ]
    },
    {
      "cell_type": "code",
      "execution_count": null,
      "id": "948580a5-eb95-450c-b27c-1e9f3fc1cb66",
      "metadata": {
        "id": "948580a5-eb95-450c-b27c-1e9f3fc1cb66"
      },
      "outputs": [],
      "source": [
        "# import torch\n",
        "# from slowfast.config.defaults import get_cfg\n",
        "# from slowfast.models.build import MODEL_REGISTRY\n",
        "\n",
        "\n",
        "# # Load the Uniformer model\n",
        "# def load_model(cfg, device=\"cuda\"):\n",
        "#     model = MODEL_REGISTRY.get(\"uniformer\")(cfg)  # \"uniformer\" must match the registration name\n",
        "#     model = model.to(device)\n",
        "#     return model\n",
        "\n",
        "# # Test the loaded model\n",
        "# def test_model():\n",
        "#     cfg = setup_cfg()\n",
        "#     device = torch.device(\"cuda\" if torch.cuda.is_available() else \"cpu\")\n",
        "#     model = load_model(cfg, device=device)\n",
        "\n",
        "#     # Create dummy input data\n",
        "#     dummy_data = torch.randn(2, 3, 16, 224, 224).to(device)  # Batch size=2, Channels=3, Temporal=16, H=224, W=224\n",
        "\n",
        "#     print(f\"Dummy data shape before passing to model: {dummy_data.shape}\")\n",
        "#     output = model(dummy_data)\n",
        "#     print(f\"Output shape: {output.shape}\")\n",
        "\n",
        "# if __name__ == \"__main__\":\n",
        "#     test_model()\n"
      ]
    },
    {
      "cell_type": "code",
      "execution_count": null,
      "id": "6981bb76-9ce3-43a9-8070-97509678964c",
      "metadata": {
        "id": "6981bb76-9ce3-43a9-8070-97509678964c"
      },
      "outputs": [],
      "source": [
        "# for batch in train_loader:\n",
        "#     print(\"Batch type:\", type(batch))\n",
        "#     print(\"Batch contents:\", batch)\n",
        "#     print(\"Data shape:\", batch[0].shape)\n",
        "#     print(\"Target shape:\", batch[1].shape)\n",
        "#     break"
      ]
    },
    {
      "cell_type": "code",
      "execution_count": null,
      "id": "4d45462d-40b2-4d4d-943d-0905bea03ae8",
      "metadata": {
        "id": "4d45462d-40b2-4d4d-943d-0905bea03ae8"
      },
      "outputs": [],
      "source": [
        "# for batch_idx, batch in enumerate(train_loader):\n",
        "#     print(f\"Batch {batch_idx} content: {batch}\")\n",
        "#     print(f\"Batch {batch_idx} length: {len(batch)}\")\n"
      ]
    },
    {
      "cell_type": "code",
      "execution_count": null,
      "id": "4251baf1-c0a3-48a6-bc5a-e43e4222fe8b",
      "metadata": {
        "id": "4251baf1-c0a3-48a6-bc5a-e43e4222fe8b",
        "outputId": "e443d89b-75dd-4daf-8206-1b4a64fee8e5"
      },
      "outputs": [
        {
          "name": "stdout",
          "output_type": "stream",
          "text": [
            "Requirement already satisfied: tqdm in c:\\users\\t2420318\\.conda\\envs\\vqa\\lib\\site-packages (4.66.5)\n",
            "Requirement already satisfied: colorama in c:\\users\\t2420318\\.conda\\envs\\vqa\\lib\\site-packages (from tqdm) (0.4.6)\n"
          ]
        }
      ],
      "source": [
        "!pip install tqdm\n"
      ]
    },
    {
      "cell_type": "code",
      "execution_count": null,
      "id": "4510a447-bcaa-4788-85a5-475f5d2e7c3e",
      "metadata": {
        "id": "4510a447-bcaa-4788-85a5-475f5d2e7c3e",
        "outputId": "4567aea4-539f-4e47-a81b-34b285be2bb5"
      },
      "outputs": [
        {
          "name": "stderr",
          "output_type": "stream",
          "text": [
            "Epoch 1/15: 100%|██████████| 19/19 [00:09<00:00,  1.96it/s, Loss=5.8231, Accuracy=21.48%]\n"
          ]
        },
        {
          "name": "stdout",
          "output_type": "stream",
          "text": [
            "Test Loss: 4.9786, Test Accuracy: 37.04%\n",
            "End of Epoch 1/15, Train Loss: 5.8231, Train Accuracy: 21.48%, Test Loss: 4.9786, Test Accuracy: 37.04%\n",
            "End of Epoch 1/15, Loss: 5.8231, Accuracy: 21.48%\n"
          ]
        },
        {
          "name": "stderr",
          "output_type": "stream",
          "text": [
            "Epoch 2/15: 100%|██████████| 19/19 [00:08<00:00,  2.13it/s, Loss=4.1188, Accuracy=30.20%]\n"
          ]
        },
        {
          "name": "stdout",
          "output_type": "stream",
          "text": [
            "Test Loss: 2.8492, Test Accuracy: 25.93%\n",
            "End of Epoch 2/15, Train Loss: 4.1188, Train Accuracy: 30.20%, Test Loss: 2.8492, Test Accuracy: 25.93%\n",
            "End of Epoch 2/15, Loss: 4.1188, Accuracy: 30.20%\n"
          ]
        },
        {
          "name": "stderr",
          "output_type": "stream",
          "text": [
            "Epoch 3/15: 100%|██████████| 19/19 [00:09<00:00,  2.05it/s, Loss=2.4461, Accuracy=28.86%]\n"
          ]
        },
        {
          "name": "stdout",
          "output_type": "stream",
          "text": [
            "Test Loss: 2.0316, Test Accuracy: 27.78%\n",
            "End of Epoch 3/15, Train Loss: 2.4461, Train Accuracy: 28.86%, Test Loss: 2.0316, Test Accuracy: 27.78%\n",
            "End of Epoch 3/15, Loss: 2.4461, Accuracy: 28.86%\n"
          ]
        },
        {
          "name": "stderr",
          "output_type": "stream",
          "text": [
            "Epoch 4/15: 100%|██████████| 19/19 [00:08<00:00,  2.16it/s, Loss=1.9919, Accuracy=31.54%]\n"
          ]
        },
        {
          "name": "stdout",
          "output_type": "stream",
          "text": [
            "Test Loss: 1.8701, Test Accuracy: 29.63%\n",
            "End of Epoch 4/15, Train Loss: 1.9919, Train Accuracy: 31.54%, Test Loss: 1.8701, Test Accuracy: 29.63%\n",
            "End of Epoch 4/15, Loss: 1.9919, Accuracy: 31.54%\n"
          ]
        },
        {
          "name": "stderr",
          "output_type": "stream",
          "text": [
            "Epoch 5/15: 100%|██████████| 19/19 [00:08<00:00,  2.14it/s, Loss=1.8964, Accuracy=32.21%]\n"
          ]
        },
        {
          "name": "stdout",
          "output_type": "stream",
          "text": [
            "Test Loss: 1.8539, Test Accuracy: 27.78%\n",
            "End of Epoch 5/15, Train Loss: 1.8964, Train Accuracy: 32.21%, Test Loss: 1.8539, Test Accuracy: 27.78%\n",
            "End of Epoch 5/15, Loss: 1.8964, Accuracy: 32.21%\n"
          ]
        },
        {
          "name": "stderr",
          "output_type": "stream",
          "text": [
            "Epoch 6/15: 100%|██████████| 19/19 [00:12<00:00,  1.54it/s, Loss=1.8824, Accuracy=36.24%]\n"
          ]
        },
        {
          "name": "stdout",
          "output_type": "stream",
          "text": [
            "Test Loss: 1.8086, Test Accuracy: 31.48%\n",
            "Early stopping triggered!\n"
          ]
        }
      ],
      "source": [
        "import faulthandler\n",
        "faulthandler.enable()\n",
        "import torch\n",
        "from torch.amp import autocast, GradScaler\n",
        "from tqdm import tqdm\n",
        "from torch.optim.lr_scheduler import CosineAnnealingLR\n",
        "def train(model, train_loader,test_loader, device, epochs=15):\n",
        "    train_losses = []\n",
        "    train_accuracies = []\n",
        "    test_losses = []\n",
        "    test_accuracies = []\n",
        "    best_test_acc = 0\n",
        "    patience = 5\n",
        "    optimizer = torch.optim.AdamW(model.parameters(), lr=1e-5)\n",
        "\n",
        "\n",
        "    scheduler = CosineAnnealingLR(optimizer, T_max=15, eta_min=5e-6)\n",
        "\n",
        "\n",
        "\n",
        "\n",
        "    loss_fn = torch.nn.CrossEntropyLoss()\n",
        "    scaler = GradScaler(\"cuda\")\n",
        "\n",
        "    model.train()\n",
        "    for epoch in range(epochs):\n",
        "        running_loss = 0.0\n",
        "        correct = 0\n",
        "        total = 0\n",
        "\n",
        "        progress_bar = tqdm(enumerate(train_loader), total=len(train_loader), desc=f'Epoch {epoch + 1}/{epochs}')\n",
        "\n",
        "        for batch_idx, (data, target) in progress_bar:\n",
        "            data, target = data.to(device), target.to(device)\n",
        "\n",
        "            if data.ndim == 6:\n",
        "                data = data.squeeze(1)\n",
        "\n",
        "            optimizer.zero_grad()\n",
        "\n",
        "            # Mixed precision training\n",
        "            with autocast(\"cuda\"):\n",
        "                output = model([data])  # Wrap input in a list for Uniformer\n",
        "                loss = loss_fn(output, target)\n",
        "\n",
        "            scaler.scale(loss).backward()\n",
        "            scaler.step(optimizer)\n",
        "            scaler.update()\n",
        "\n",
        "            running_loss += loss.item()\n",
        "            _, predicted = output.max(1)\n",
        "            correct += predicted.eq(target).sum().item()\n",
        "            total += target.size(0)\n",
        "\n",
        "            progress_bar.set_postfix({\n",
        "                'Loss': f'{running_loss / (batch_idx + 1):.4f}',\n",
        "                'Accuracy': f'{100 * correct / total:.2f}%'\n",
        "            })\n",
        "            # if test_accuracy > best_test_acc:\n",
        "            #     best_test_acc = test_accuracy\n",
        "            #     torch.save(model.state_dict(), \"best_model.pth\")  # Save best model\n",
        "            #     patience_counter = 0  # Reset counter\n",
        "            # else:\n",
        "            #     patience_counter += 1  # Increment if no improvement\n",
        "\n",
        "            # if patience_counter >= patience:\n",
        "            #     print(\"Early stopping triggered!\")\n",
        "            #     break\n",
        "        train_losses.append(running_loss / len(train_loader))\n",
        "        train_accuracies.append(100 * correct / total)\n",
        "\n",
        "        # Evaluation phase\n",
        "        test_loss, test_accuracy, _, _ = evaluate_with_predictions(model, test_loader, device)\n",
        "        if test_accuracy > best_test_acc:\n",
        "            best_test_acc = test_accuracy\n",
        "            torch.save(model.state_dict(), \"best_model.pth\")\n",
        "            patience_counter = 0  # Reset patience\n",
        "        else:\n",
        "            patience_counter += 1\n",
        "\n",
        "        if patience_counter >= patience:\n",
        "            print(\"Early stopping triggered!\")\n",
        "            break\n",
        "        test_losses.append(test_loss)\n",
        "        test_accuracies.append(test_accuracy)\n",
        "        print(f\"End of Epoch {epoch + 1}/{epochs}, Train Loss: {train_losses[-1]:.4f}, Train Accuracy: {train_accuracies[-1]:.2f}%, Test Loss: {test_loss:.4f}, Test Accuracy: {test_accuracy:.2f}%\")\n",
        "\n",
        "\n",
        "\n",
        "\n",
        "        # Summary at the end of each epoch\n",
        "        if total > 0:\n",
        "            epoch_loss = running_loss / len(train_loader)\n",
        "            epoch_accuracy = 100 * correct / total\n",
        "            print(f'End of Epoch {epoch + 1}/{epochs}, Loss: {epoch_loss:.4f}, Accuracy: {epoch_accuracy:.2f}%')\n",
        "    return train_losses, train_accuracies, test_losses, test_accuracies\n",
        "data_augmentations = transforms.Compose([\n",
        "    transforms.RandomHorizontalFlip(),\n",
        "    transforms.RandomRotation(45),  # Less aggressive than 90°\n",
        "    transforms.ColorJitter(brightness=0.5, contrast=0.5, saturation=0.5),\n",
        "    transforms.RandomResizedCrop((224, 224), scale=(0.6, 1.0)),  # Moderate cropping\n",
        "    transforms.RandomApply([transforms.GaussianBlur(7)], p=0.3),  # Slightly reduce blur\n",
        "    transforms.RandomErasing(p=0.5, scale=(0.02, 0.3)),  # Moderate Cutout\n",
        "    transforms.Normalize(mean=[0.485, 0.456, 0.406], std=[0.229, 0.224, 0.225])\n",
        "])\n",
        "\n",
        "\n",
        "\n",
        "# Example usage\n",
        "# Assume 'model', 'train_loader', and 'device' are defined and properly configured\n",
        "torch.cuda.empty_cache()\n",
        "torch.cuda.ipc_collect()\n",
        "# train(model, train_loader, device=\"cuda\")\n",
        "train_losses, train_accuracies, test_losses, test_accuracies = train(model, train_loader, test_loader, device=\"cuda\", epochs=15)\n"
      ]
    },
    {
      "cell_type": "code",
      "execution_count": null,
      "id": "11e6f455-0969-4f9f-9593-4d9acd29ceee",
      "metadata": {
        "id": "11e6f455-0969-4f9f-9593-4d9acd29ceee",
        "outputId": "e6b62220-26fc-4ffe-c714-530c3a987a96"
      },
      "outputs": [
        {
          "name": "stdout",
          "output_type": "stream",
          "text": [
            "Model saved to C:\\Users\\T2420318\\Dataset\\Final_Model\n"
          ]
        }
      ],
      "source": [
        "import shutil\n",
        "\n",
        "source_path = 'best_model.pth'\n",
        "target_path = r'C:\\Users\\T2420318\\Dataset\\Final_Model'  # Adjust this to your preferred location\n",
        "\n",
        "# Move the file\n",
        "shutil.move(source_path, target_path)\n",
        "print(f\"Model saved to {target_path}\")\n"
      ]
    },
    {
      "cell_type": "code",
      "execution_count": null,
      "id": "53866195-ad08-4e80-8511-f8b97e07c2f9",
      "metadata": {
        "id": "53866195-ad08-4e80-8511-f8b97e07c2f9",
        "outputId": "f8206629-6293-40b7-ec5d-9e2a491d799a"
      },
      "outputs": [
        {
          "name": "stderr",
          "output_type": "stream",
          "text": [
            "C:\\Users\\T2420318\\AppData\\Local\\Temp\\ipykernel_11108\\3079264734.py:5: FutureWarning: You are using `torch.load` with `weights_only=False` (the current default value), which uses the default pickle module implicitly. It is possible to construct malicious pickle data which will execute arbitrary code during unpickling (See https://github.com/pytorch/pytorch/blob/main/SECURITY.md#untrusted-models for more details). In a future release, the default value for `weights_only` will be flipped to `True`. This limits the functions that could be executed during unpickling. Arbitrary objects will no longer be allowed to be loaded via this mode unless they are explicitly allowlisted by the user via `torch.serialization.add_safe_globals`. We recommend you start setting `weights_only=True` for any use case where you don't have full control of the loaded file. Please open an issue on GitHub for any issues related to this experimental feature.\n",
            "  state_dict = torch.load(r\"C:\\Users\\T2420318\\Dataset\\Final_Model\\best_model_uniformer.pth\")\n"
          ]
        },
        {
          "name": "stdout",
          "output_type": "stream",
          "text": [
            "Model state dictionary loaded successfully from 'path_to_saved_model.pth'.\n",
            "Model moved to cuda.\n",
            "Model set to evaluation mode.\n"
          ]
        }
      ],
      "source": [
        "import torch\n",
        "\n",
        "# Load the previously saved state_dict into the model\n",
        "# Use strict=False to ignore missing or unexpected keys\n",
        "state_dict = torch.load(r\"C:\\Users\\T2420318\\Dataset\\Final_Model\\best_model_uniformer.pth\")\n",
        "model.load_state_dict(state_dict, strict=False)\n",
        "\n",
        "print(\"Model state dictionary loaded successfully from 'path_to_saved_model.pth'.\")\n",
        "\n",
        "# Assuming device setup is defined, move the model to the appropriate device\n",
        "device = torch.device(\"cuda\" if torch.cuda.is_available() else \"cpu\")\n",
        "model.to(device)\n",
        "print(f\"Model moved to {device}.\")\n",
        "\n",
        "# Set the model to evaluation mode for testing or validation\n",
        "model.eval()\n",
        "print(\"Model set to evaluation mode.\")\n"
      ]
    },
    {
      "cell_type": "code",
      "execution_count": null,
      "id": "55bfec72-8a91-4809-99cc-14e0eeb276e0",
      "metadata": {
        "id": "55bfec72-8a91-4809-99cc-14e0eeb276e0",
        "outputId": "28ed0854-439b-469c-ed51-879acbfa264d"
      },
      "outputs": [
        {
          "data": {
            "image/png": "[encoded data removed]",
            "text/plain": [
              "<Figure size 1400x700 with 2 Axes>"
            ]
          },
          "metadata": {},
          "output_type": "display_data"
        }
      ],
      "source": [
        "import matplotlib.pyplot as plt\n",
        "\n",
        "# Dynamically adjust the number of epochs based on available data\n",
        "num_epochs = min(len(train_losses), len(test_losses), len(train_accuracies), len(test_accuracies))\n",
        "epochs = range(1, num_epochs + 1)\n",
        "\n",
        "# Plot training and testing loss\n",
        "plt.figure(figsize=(14, 7))\n",
        "\n",
        "plt.subplot(1, 2, 1)\n",
        "plt.plot(epochs, train_losses[:num_epochs], 'r-o', label='Training Loss')\n",
        "plt.plot(epochs, test_losses[:num_epochs], 'b-o', label='Testing Loss')\n",
        "plt.title('Training vs Testing Loss')\n",
        "plt.xlabel('Epochs')\n",
        "plt.ylabel('Loss')\n",
        "plt.legend()\n",
        "\n",
        "# Plot training and testing accuracy\n",
        "plt.subplot(1, 2, 2)\n",
        "plt.plot(epochs, train_accuracies[:num_epochs], 'r-o', label='Training Accuracy')\n",
        "plt.plot(epochs, test_accuracies[:num_epochs], 'b-o', label='Testing Accuracy')\n",
        "plt.title('Training vs Testing Accuracy')\n",
        "plt.xlabel('Epochs')\n",
        "plt.ylabel('Accuracy (%)')\n",
        "plt.legend()\n",
        "\n",
        "plt.tight_layout()\n",
        "plt.show()\n"
      ]
    },
    {
      "cell_type": "code",
      "execution_count": null,
      "id": "725e831d-9ff9-462a-a516-01381bbdb0fc",
      "metadata": {
        "id": "725e831d-9ff9-462a-a516-01381bbdb0fc"
      },
      "outputs": [],
      "source": [
        "# def evaluate_with_predictions(model, test_loader, device):\n",
        "#     model.eval()\n",
        "#     correct = 0\n",
        "#     total = 0\n",
        "#     running_loss = 0.0\n",
        "#     loss_fn = torch.nn.CrossEntropyLoss()\n",
        "#     all_predictions = []\n",
        "#     all_labels = []\n",
        "\n",
        "#     with torch.no_grad():\n",
        "#         for data, target in test_loader:\n",
        "#             data, target = data.to(device), target.to(device)\n",
        "#             output = model([data])\n",
        "#             loss = loss_fn(output, target)\n",
        "#             running_loss += loss.item()\n",
        "#             _, predicted = torch.max(output.data, 1)\n",
        "#             correct += (predicted == target).sum().item()\n",
        "#             total += target.size(0)\n",
        "#             all_predictions.extend(predicted.cpu().numpy())\n",
        "#             all_labels.extend(target.cpu().numpy())\n",
        "\n",
        "#     test_loss = running_loss / len(test_loader)\n",
        "#     test_accuracy = 100 * correct / total\n",
        "#     return test_loss, test_accuracy, all_predictions, all_labels\n"
      ]
    },
    {
      "cell_type": "code",
      "execution_count": null,
      "id": "d9cfa1ca-ba7c-478b-aaef-e995b7c85015",
      "metadata": {
        "id": "d9cfa1ca-ba7c-478b-aaef-e995b7c85015",
        "outputId": "87d17769-d79b-4307-88bb-e6e0b5af23a9"
      },
      "outputs": [
        {
          "name": "stdout",
          "output_type": "stream",
          "text": [
            "Test Loss: 4.9786, Test Accuracy: 37.04%\n"
          ]
        }
      ],
      "source": [
        "def evaluate_with_predictions(model, test_loader, device):\n",
        "    model.eval()  # Set the model to evaluation mode\n",
        "    correct = 0\n",
        "    total = 0\n",
        "    running_loss = 0.0\n",
        "    loss_fn = torch.nn.CrossEntropyLoss()\n",
        "    all_predictions = []\n",
        "    all_labels = []\n",
        "\n",
        "    with torch.no_grad():\n",
        "        for data, target in test_loader:\n",
        "            data, target = data.to(device), target.to(device)\n",
        "\n",
        "            # Wrap the data in a list if the model expects it\n",
        "            output = model([data])\n",
        "\n",
        "            # Calculate the loss\n",
        "            loss = loss_fn(output, target)\n",
        "            running_loss += loss.item()\n",
        "\n",
        "            # Get predictions\n",
        "            _, predicted = torch.max(output.data, 1)\n",
        "            all_predictions.extend(predicted.cpu().numpy())  # Store predictions\n",
        "            all_labels.extend(target.cpu().numpy())  # Store true labels\n",
        "\n",
        "            # Update total and correct counts\n",
        "            total += target.size(0)\n",
        "            correct += (predicted == target).sum().item()\n",
        "\n",
        "    test_loss = running_loss / len(test_loader)\n",
        "    test_accuracy = 100 * correct / total\n",
        "    print(f\"Test Loss: {test_loss:.4f}, Test Accuracy: {test_accuracy:.2f}%\")\n",
        "\n",
        "    return test_loss, test_accuracy, all_labels, all_predictions  # Return the required values\n",
        "\n",
        "# Now, when you call evaluate_with_predictions, it will return all four values as expected:\n",
        "test_loss, test_accuracy, true_labels, predictions = evaluate_with_predictions(model, test_loader, device)\n"
      ]
    },
    {
      "cell_type": "code",
      "execution_count": null,
      "id": "74a52940-4b6a-4d9d-bfd9-faf33694db32",
      "metadata": {
        "id": "74a52940-4b6a-4d9d-bfd9-faf33694db32",
        "outputId": "731b4f44-7ed8-4838-a7cf-7ffd07b8da46"
      },
      "outputs": [
        {
          "data": {
            "image/png": "[encoded data removed]",
            "text/plain": [
              "<Figure size 1000x700 with 2 Axes>"
            ]
          },
          "metadata": {},
          "output_type": "display_data"
        }
      ],
      "source": [
        "import matplotlib.pyplot as plt\n",
        "import numpy as np\n",
        "from sklearn.metrics import confusion_matrix\n",
        "\n",
        "# Assuming predictions and true_labels are defined\n",
        "cm = confusion_matrix(true_labels, predictions)  # Make sure this line has been run with your actual data\n",
        "idx_to_class = {v: k for k, v in class_to_idx.items()}\n",
        "def plot_confusion_matrix(cm, class_names):\n",
        "    \"\"\"\n",
        "    Plots a confusion matrix using only matplotlib, without seaborn.\n",
        "    \"\"\"\n",
        "    fig, ax = plt.subplots(figsize=(10, 7))  # Set figure size\n",
        "    im = ax.imshow(cm, interpolation='nearest', cmap=plt.cm.Blues)\n",
        "    ax.figure.colorbar(im, ax=ax)\n",
        "\n",
        "    # We want to show all ticks...\n",
        "    ax.set(xticks=np.arange(cm.shape[1]),\n",
        "           yticks=np.arange(cm.shape[0]),\n",
        "           # ... and label them with the respective list entries\n",
        "           xticklabels=class_names, yticklabels=class_names,\n",
        "           title='Confusion Matrix',\n",
        "           ylabel='True label',\n",
        "           xlabel='Predicted label')\n",
        "\n",
        "    # Rotate the tick labels and set their alignment.\n",
        "    plt.setp(ax.get_xticklabels(), rotation=45, ha=\"right\",\n",
        "             rotation_mode=\"anchor\")\n",
        "\n",
        "    # Loop over data dimensions and create text annotations.\n",
        "    fmt = 'd'\n",
        "    thresh = cm.max() / 2.\n",
        "    for i in range(cm.shape[0]):\n",
        "        for j in range(cm.shape[1]):\n",
        "            ax.text(j, i, format(cm[i, j], fmt),\n",
        "                    ha=\"center\", va=\"center\",\n",
        "                    color=\"white\" if cm[i, j] > thresh else \"black\")\n",
        "    fig.tight_layout()\n",
        "    return ax\n",
        "\n",
        "# Get class names from your idx_to_class dictionary\n",
        "class_names = list(idx_to_class.values())\n",
        "\n",
        "# Call the function to plot the confusion matrix\n",
        "plot_confusion_matrix(cm, class_names)\n",
        "plt.show()\n"
      ]
    },
    {
      "cell_type": "code",
      "execution_count": null,
      "id": "ffee06fe-1307-4682-9739-f917788701ca",
      "metadata": {
        "id": "ffee06fe-1307-4682-9739-f917788701ca"
      },
      "outputs": [],
      "source": [
        "from slowfast.models.build import MODEL_REGISTRY\n",
        "from slowfast.models.build import MODEL_REGISTRY\n",
        "from slowfast.config.defaults import get_cfg\n",
        "\n",
        "# Load the configuration\n",
        "cfg = get_cfg()\n",
        "cfg.MODEL.ARCH = \"Uniformer\"\n",
        "\n",
        "# Build the model\n",
        "model = MODEL_REGISTRY.get(cfg.MODEL.ARCH)(cfg)\n",
        "print(\"Model loaded successfully!\")\n",
        "\n",
        "# Build the model using the loaded configuration\n",
        "model = MODEL_REGISTRY.get(cfg.MODEL.ARCH)(cfg)\n",
        "\n",
        "print(\"UniFormer model built successfully!\")\n",
        "\n",
        "device = torch.device(\"cuda\" if torch.cuda.is_available() else \"cpu\")\n",
        "model = model.to(device)\n",
        "\n",
        "print(f\"Model moved to {device} successfully!\")\n"
      ]
    },
    {
      "cell_type": "code",
      "execution_count": null,
      "id": "550d15be-7579-49f3-9b9a-09973388fbc0",
      "metadata": {
        "id": "550d15be-7579-49f3-9b9a-09973388fbc0"
      },
      "outputs": [],
      "source": [
        "# !pip install \"C:\\Users\\T2420318\\UniFormer\\video_classification\"\n"
      ]
    },
    {
      "cell_type": "code",
      "execution_count": null,
      "id": "7e6dd406-b852-417d-bed4-51a084b1f5b1",
      "metadata": {
        "id": "7e6dd406-b852-417d-bed4-51a084b1f5b1"
      },
      "outputs": [],
      "source": [
        "# # Save the trained model's state_dict to the specified path\n",
        "# torch.save(model.state_dict(), r'C:\\Users\\T2420318\\Dataset\\Model\\Uniformer_model_new_final.pth')\n"
      ]
    },
    {
      "cell_type": "code",
      "execution_count": null,
      "id": "d707eb31-9dd8-4bae-ba9b-81cf8134c780",
      "metadata": {
        "id": "d707eb31-9dd8-4bae-ba9b-81cf8134c780"
      },
      "outputs": [],
      "source": [
        "# import sys\n",
        "# sys.path.append(\"C:/Users/T2420318/UniFormer/video_classification\")\n"
      ]
    },
    {
      "cell_type": "code",
      "execution_count": null,
      "id": "e24ed92c-bb99-4163-83cc-5f4a4945556a",
      "metadata": {
        "id": "e24ed92c-bb99-4163-83cc-5f4a4945556a"
      },
      "outputs": [],
      "source": [
        "# import torch\n",
        "\n",
        "# # Load the previously saved state_dict into the model\n",
        "# model.load_state_dict(torch.load(r'C:\\Users\\T2420318\\Dataset\\Model\\Uniformer_model_new.pth'))\n",
        "# print(\"Model state dictionary loaded successfully from 'Uniformer_model_new.pth'.\")\n",
        "\n",
        "# # Assuming device setup is defined, move the model to the appropriate device\n",
        "# device = torch.device(\"cuda\" if torch.cuda.is_available() else \"cpu\")\n",
        "# model.to(device)\n",
        "# print(f\"Model moved to {device}.\")\n",
        "\n",
        "# # Set the model to evaluation mode for testing or validation\n",
        "# model.eval()\n",
        "# print(\"Model set to evaluation mode.\")\n"
      ]
    },
    {
      "cell_type": "code",
      "execution_count": null,
      "id": "ea3490b4-e9d8-4ac1-847c-a81035ddbdb2",
      "metadata": {
        "id": "ea3490b4-e9d8-4ac1-847c-a81035ddbdb2"
      },
      "outputs": [],
      "source": []
    },
    {
      "cell_type": "code",
      "execution_count": null,
      "id": "94be3526-6890-4c6a-8ce1-c97793b22dfa",
      "metadata": {
        "id": "94be3526-6890-4c6a-8ce1-c97793b22dfa"
      },
      "outputs": [],
      "source": [
        "# from torchtext.data.metrics import bleu_score\n",
        "# import numpy as np\n",
        "\n",
        "# def calculate_bleu(predictions, references):\n",
        "#     # Convert tensor predictions to string if not already\n",
        "#     pred_sentences = [p.split() for p in predictions]\n",
        "#     ref_sentences = [[r.split()] for r in references]  # BLEU expects a list of list of references\n",
        "#     return bleu_score(pred_sentences, ref_sentences)\n",
        "\n",
        "# # Assuming you have `predictions` and `ground_truths` loaded from your inference and dataset\n",
        "# bleu = calculate_bleu(predictions, ground_truths)\n",
        "# print(f\"BLEU Score: {bleu}\")\n"
      ]
    },
    {
      "cell_type": "code",
      "execution_count": null,
      "id": "5b7fa541-328d-4ced-97d1-1ab190790d1e",
      "metadata": {
        "id": "5b7fa541-328d-4ced-97d1-1ab190790d1e"
      },
      "outputs": [],
      "source": []
    },
    {
      "cell_type": "code",
      "execution_count": null,
      "id": "c64fb7ae-125b-4235-b353-21741367882f",
      "metadata": {
        "id": "c64fb7ae-125b-4235-b353-21741367882f"
      },
      "outputs": [],
      "source": []
    },
    {
      "cell_type": "code",
      "execution_count": null,
      "id": "e2c66fdc-bdc4-4994-a075-9aafaa06ac38",
      "metadata": {
        "id": "e2c66fdc-bdc4-4994-a075-9aafaa06ac38"
      },
      "outputs": [],
      "source": []
    },
    {
      "cell_type": "code",
      "execution_count": null,
      "id": "dd39e19d-1137-4a3d-a7da-2736d8d74e2f",
      "metadata": {
        "id": "dd39e19d-1137-4a3d-a7da-2736d8d74e2f"
      },
      "outputs": [],
      "source": [
        "# import torch\n",
        "# from torchvision.io import read_video\n",
        "# import torchvision.transforms as transforms\n",
        "\n",
        "# class_to_idx = {\n",
        "#     'Abuse': 0, 'Arrest': 1, 'Assault': 2, 'Fighting': 3,\n",
        "#     'Explosion': 4, 'Burglary': 5, 'Arson': 6, 'Normal': 7\n",
        "# }\n",
        "# # Reverse mapping to get class names from indices\n",
        "# idx_to_class = {v: k for k, v in class_to_idx.items()}\n",
        "# def infer_video(model, video_path, device, frame_count=16, frame_size=(224, 224)):\n",
        "#     model.eval()\n",
        "\n",
        "#     # Read video frames\n",
        "#     frames, _, _ = read_video(video_path, pts_unit=\"sec\")\n",
        "\n",
        "#     # Ensure the correct number of frames\n",
        "#     if frames.shape[0] < frame_count:\n",
        "#         raise ValueError(f\"The video has fewer frames ({frames.shape[0]}) than the required {frame_count}.\")\n",
        "\n",
        "#     frames = frames[:frame_count]  # Limit to the required frame count\n",
        "\n",
        "#     # Transform frames to the correct format\n",
        "#     frames = frames.permute(0, 3, 1, 2).float()  # Convert to [frames, channels, height, width]\n",
        "\n",
        "#     # Ensure the frames have 3 channels (RGB)\n",
        "#     if frames.shape[1] == 1:\n",
        "#         frames = frames.repeat(1, 3, 1, 1)\n",
        "\n",
        "#     # Resize frames to the required frame size\n",
        "#     frames = torch.nn.functional.interpolate(frames, size=frame_size, mode=\"bilinear\")\n",
        "\n",
        "#     # Add batch and temporal dimensions: [batch, channels, temporal, height, width]\n",
        "#     frames = frames.unsqueeze(0).permute(0, 2, 1, 3, 4).to(device)\n",
        "\n",
        "#     # Perform inference\n",
        "#     with torch.no_grad():\n",
        "#         outputs = model([frames])  # Wrap frames in a list for Uniformer\n",
        "\n",
        "#     # Get logits and predicted labels\n",
        "#     logits = outputs.logits if hasattr(outputs, \"logits\") else outputs\n",
        "#     probs = F.softmax(logits, dim=-1)  # Convert logits to probabilities\n",
        "\n",
        "#     # Get predicted class and probability\n",
        "#     predicted_idx = torch.argmax(probs, dim=-1).item()\n",
        "#     predicted_prob = probs[0, predicted_idx].item()\n",
        "\n",
        "#     # Map the predicted index to the class name\n",
        "#     predicted_label = idx_to_class[predicted_idx]\n",
        "\n",
        "#     # Check if it's an anomaly\n",
        "#     if predicted_label == \"Normal\":\n",
        "#         anomaly_status = \"Normal Video\"\n",
        "#     else:\n",
        "#         anomaly_status = f\"Anomalous Video ({predicted_label})\"\n",
        "\n",
        "#     return {\n",
        "#         \"anomaly_status\": anomaly_status,\n",
        "#         \"predicted_label\": predicted_label,\n",
        "#         \"probability\": predicted_prob\n",
        "#     }\n",
        "\n",
        "\n",
        "# # Example Usage\n",
        "# video_path = r\"C:\\Users\\T2420318\\Dataset\\Videos\\Anomalous\\Explosion\\Explosion003_x264.mp4\"\n",
        "# result = infer_video(model, video_path, device)\n",
        "\n",
        "# print(\"Prediction Results:\")\n",
        "# print(f\"Anomaly Status: {result['anomaly_status']}\")\n",
        "# print(f\"Predicted Label: {result['predicted_label']}\")\n",
        "# print(f\"Probability: {result['probability']:.4f}\")"
      ]
    },
    {
      "cell_type": "code",
      "execution_count": null,
      "id": "46322e9d-044c-4a01-a931-196805ebeeb4",
      "metadata": {
        "id": "46322e9d-044c-4a01-a931-196805ebeeb4"
      },
      "outputs": [],
      "source": []
    },
    {
      "cell_type": "code",
      "execution_count": null,
      "id": "12e9015e-b32c-4892-99c1-e244dc756a44",
      "metadata": {
        "id": "12e9015e-b32c-4892-99c1-e244dc756a44"
      },
      "outputs": [],
      "source": [
        "# def batch_infer_videos(model, video_paths, true_labels, device):\n",
        "#     predictions = []\n",
        "#     model.eval()  # Ensure the model is in evaluation mode\n",
        "#     for video_path in video_paths:\n",
        "#         try:\n",
        "#             result = infer_video(model, video_path, device)\n",
        "#             predictions.append(class_to_idx[result['predicted_label']])\n",
        "#         except ValueError as e:\n",
        "#             print(e)\n",
        "#             continue  # Skip videos with errors\n",
        "\n",
        "#     return predictions, true_labels\n"
      ]
    },
    {
      "cell_type": "code",
      "execution_count": null,
      "id": "ea7a87d5-4205-4762-9697-5ae9bc351abf",
      "metadata": {
        "id": "ea7a87d5-4205-4762-9697-5ae9bc351abf",
        "outputId": "f4cb3628-22f2-4ef3-fb1d-02b518a3fcc6"
      },
      "outputs": [
        {
          "name": "stdout",
          "output_type": "stream",
          "text": [
            "Accuracy: 0.1200\n",
            "Precision: 0.1240\n",
            "Recall: 0.1191\n",
            "F1 Score: 0.1183\n",
            "MCC: -0.0071\n",
            "Cohen Kappa Score: -0.0071\n",
            "Log Loss: 2.1045\n",
            "ROC-AUC: 0.5169\n",
            "BLEU Score: 0.0213\n"
          ]
        }
      ],
      "source": [
        "import numpy as np\n",
        "import torch\n",
        "import torch.nn.functional as F\n",
        "from sklearn.metrics import (\n",
        "    accuracy_score, precision_score, recall_score, f1_score, roc_auc_score,\n",
        "    log_loss, matthews_corrcoef, cohen_kappa_score\n",
        ")\n",
        "from nltk.translate.bleu_score import sentence_bleu, SmoothingFunction\n",
        "\n",
        "def compute_evaluation_metrics(true_labels, predictions, logits, class_names):\n",
        "    \"\"\"\n",
        "    Computes multiple evaluation metrics for Timesformer model performance.\n",
        "    \"\"\"\n",
        "    # ✅ Ensure logits is a NumPy array\n",
        "    logits_np = np.array(logits)\n",
        "\n",
        "    # ✅ Generate probabilities (softmax applied to logits)\n",
        "    probabilities = F.softmax(torch.tensor(logits_np), dim=1).numpy()\n",
        "\n",
        "    # ✅ Compute standard classification metrics\n",
        "    accuracy = accuracy_score(true_labels, predictions)\n",
        "    precision = precision_score(true_labels, predictions, average='macro', zero_division=0)\n",
        "    recall = recall_score(true_labels, predictions, average='macro', zero_division=0)\n",
        "    f1 = f1_score(true_labels, predictions, average='macro', zero_division=0)\n",
        "    mcc = matthews_corrcoef(true_labels, predictions)\n",
        "    kappa = cohen_kappa_score(true_labels, predictions)\n",
        "\n",
        "    # ✅ Compute log loss safely\n",
        "    try:\n",
        "        logloss = log_loss(true_labels, probabilities)\n",
        "    except ValueError:\n",
        "        logloss = np.nan  # Handle cases where log_loss fails\n",
        "\n",
        "    # ✅ Compute ROC-AUC Score (if valid)\n",
        "    try:\n",
        "        roc_auc = roc_auc_score(true_labels, probabilities, multi_class='ovr')\n",
        "    except ValueError:\n",
        "        roc_auc = np.nan  # Handle cases where ROC AUC is invalid\n",
        "\n",
        "    # ✅ Compute BLEU Score (Fix Applied)\n",
        "    smoothing = SmoothingFunction().method1  # Apply smoothing\n",
        "    bleu_scores = []\n",
        "    for true, pred in zip(true_labels, predictions):\n",
        "        true_text = class_names[true].split()  # Convert class name to words\n",
        "        pred_text = class_names[pred].split()  # Convert class name to words\n",
        "        bleu_scores.append(sentence_bleu([true_text], pred_text, smoothing_function=smoothing))\n",
        "\n",
        "    bleu_score_avg = np.mean(bleu_scores)\n",
        "\n",
        "    # ✅ Print Results\n",
        "    print(f\"Accuracy: {accuracy:.4f}\")\n",
        "    print(f\"Precision: {precision:.4f}\")\n",
        "    print(f\"Recall: {recall:.4f}\")\n",
        "    print(f\"F1 Score: {f1:.4f}\")\n",
        "    print(f\"MCC: {mcc:.4f}\")\n",
        "    print(f\"Cohen Kappa Score: {kappa:.4f}\")\n",
        "    print(f\"Log Loss: {logloss:.4f}\")\n",
        "    print(f\"ROC-AUC: {roc_auc:.4f}\")\n",
        "    print(f\"BLEU Score: {bleu_score_avg:.4f}\")\n",
        "\n",
        "    # ✅ Return all metrics as a dictionary\n",
        "    return {\n",
        "        \"Accuracy\": accuracy,\n",
        "        \"Precision\": precision,\n",
        "        \"Recall\": recall,\n",
        "        \"F1 Score\": f1,\n",
        "        \"MCC\": mcc,\n",
        "        \"Cohen Kappa\": kappa,\n",
        "        \"Log Loss\": logloss,\n",
        "        \"ROC-AUC\": roc_auc,\n",
        "        \"BLEU Score\": bleu_score_avg\n",
        "    }\n",
        "\n",
        "\n",
        "# ✅ Example Call (Fixed)\n",
        "class_names = {0: \"Abuse\", 1: \"Arrest\", 2: \"Assault\", 3: \"Fighting\",\n",
        "               4: \"Explosion\", 5: \"Burglary\", 6: \"Arson\", 7: \"Normal\"}\n",
        "\n",
        "# ⚡ Simulate some predictions and logits (Replace with actual model output)\n",
        "true_labels = np.random.randint(0, 8, size=100)  # Simulated ground truth labels\n",
        "predictions = np.random.randint(0, 8, size=100)  # Simulated model predictions\n",
        "logits = np.random.rand(100, 8)  # Simulated raw logits from the model\n",
        "\n",
        "# ✅ Compute and store evaluation results\n",
        "evaluation_results = compute_evaluation_metrics(true_labels, predictions, logits, class_names)\n"
      ]
    },
    {
      "cell_type": "code",
      "execution_count": null,
      "id": "cff95dfb-47c9-4825-a432-4a2609502a8d",
      "metadata": {
        "id": "cff95dfb-47c9-4825-a432-4a2609502a8d",
        "outputId": "fd6c8e89-787c-470e-96e9-858eae28193f"
      },
      "outputs": [
        {
          "name": "stdout",
          "output_type": "stream",
          "text": [
            "           Accuracy  Precision    Recall  F1 Score       MCC  Cohen Kappa  \\\n",
            "UniFormer      0.12   0.124012  0.119116  0.118335 -0.007144    -0.007095   \n",
            "\n",
            "           Log Loss  ROC-AUC  BLEU Score  \n",
            "UniFormer  2.104501  0.51692    0.021339  \n"
          ]
        }
      ],
      "source": [
        "import pandas as pd\n",
        "\n",
        "def generate_performance_table(model_name, evaluation_results):\n",
        "    \"\"\"\n",
        "    Generates a table with model evaluation metrics.\n",
        "    \"\"\"\n",
        "    df = pd.DataFrame(evaluation_results, index=[model_name])\n",
        "    print(df)  # Print the table to the console\n",
        "    return df\n",
        "\n",
        "# Example usage:\n",
        "model_name = \"UniFormer\"\n",
        "df = generate_performance_table(model_name, evaluation_results)\n"
      ]
    },
    {
      "cell_type": "code",
      "execution_count": null,
      "id": "a3c1189e-5502-4d6d-a0be-b09ef786e018",
      "metadata": {
        "id": "a3c1189e-5502-4d6d-a0be-b09ef786e018",
        "outputId": "1cb9944e-9939-43da-a14f-9577b4c80b99"
      },
      "outputs": [
        {
          "data": {
            "image/png": "[encoded data removed]",
            "text/plain": [
              "<Figure size 1200x600 with 1 Axes>"
            ]
          },
          "metadata": {},
          "output_type": "display_data"
        }
      ],
      "source": [
        "import matplotlib.pyplot as plt\n",
        "import numpy as np\n",
        "\n",
        "def plot_model_performance(model_name, evaluation_results):\n",
        "    \"\"\"\n",
        "    Plots the model performance scores in a bar chart.\n",
        "    \"\"\"\n",
        "    # Extract score names and values\n",
        "    metrics = list(evaluation_results.keys())\n",
        "    scores = list(evaluation_results.values())\n",
        "\n",
        "    # Convert NaN values to zero for plotting\n",
        "    scores = [0 if np.isnan(score) else score for score in scores]\n",
        "\n",
        "    plt.figure(figsize=(12, 6))\n",
        "    plt.barh(metrics, scores, color='royalblue')\n",
        "    plt.xlabel(\"Score Value\")\n",
        "    plt.ylabel(\"Metrics\")\n",
        "    plt.title(f\"Performance Metrics for {model_name}\")\n",
        "    plt.xlim(0, 1)  # Since most scores are percentages (0 to 1)\n",
        "\n",
        "    # Annotate bars with values\n",
        "    for index, value in enumerate(scores):\n",
        "        plt.text(value + 0.02, index, f\"{value:.3f}\", va='center', fontsize=10)\n",
        "\n",
        "    plt.gca().invert_yaxis()  # Invert Y-axis for better readability\n",
        "    plt.grid(axis='x', linestyle='--', alpha=0.7)\n",
        "    plt.show()\n",
        "\n",
        "# Example usage\n",
        "plot_model_performance(model_name, evaluation_results)\n"
      ]
    },
    {
      "cell_type": "code",
      "execution_count": null,
      "id": "20091e7a-0df6-4d4a-8321-cc1228702346",
      "metadata": {
        "id": "20091e7a-0df6-4d4a-8321-cc1228702346"
      },
      "outputs": [],
      "source": []
    }
  ],
  "metadata": {
    "kernelspec": {
      "display_name": "Python (vqa)",
      "language": "python",
      "name": "vqa"
    },
    "language_info": {
      "codemirror_mode": {
        "name": "ipython",
        "version": 3
      },
      "file_extension": ".py",
      "mimetype": "text/x-python",
      "name": "python",
      "nbconvert_exporter": "python",
      "pygments_lexer": "ipython3",
      "version": "3.12.8"
    },
    "colab": {
      "provenance": []
    }
  },
  "nbformat": 4,
  "nbformat_minor": 5
}